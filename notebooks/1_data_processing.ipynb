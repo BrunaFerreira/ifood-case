{
  "nbformat": 4,
  "nbformat_minor": 0,
  "metadata": {
    "colab": {
      "provenance": [],
      "machine_shape": "hm",
      "gpuType": "T4",
      "toc_visible": true
    },
    "kernelspec": {
      "name": "python3",
      "display_name": "Python 3"
    },
    "language_info": {
      "name": "python"
    },
    "accelerator": "GPU"
  },
  "cells": [
    {
      "cell_type": "code",
      "execution_count": null,
      "metadata": {
        "id": "P1hByN87974s"
      },
      "outputs": [],
      "source": [
        "import pandas as pd\n",
        "import numpy as np\n",
        "import matplotlib.pyplot as plt\n",
        "from datetime import datetime\n",
        "import seaborn as sns\n",
        "from sklearn.preprocessing import MinMaxScaler\n",
        "pd.set_option('display.float_format', '{:.2f}'.format)"
      ]
    },
    {
      "cell_type": "markdown",
      "source": [
        "# Import Data"
      ],
      "metadata": {
        "id": "5MasLXJiBTfA"
      }
    },
    {
      "cell_type": "code",
      "source": [
        "#Diretorio onde os dados estão salvos no Google Drive\n",
        "dir = \"/content/drive/MyDrive/10_Trabalho/2_Cases_testes/202506_Ifood/ifood-case/data/raw\""
      ],
      "metadata": {
        "id": "GKh-dkT7O1-X"
      },
      "execution_count": null,
      "outputs": []
    },
    {
      "cell_type": "markdown",
      "source": [
        "## Transactions Dataset"
      ],
      "metadata": {
        "id": "tod4FXxjO4QB"
      }
    },
    {
      "cell_type": "code",
      "source": [
        "# Leitura da base de dados de transações\n",
        "transactions = pd.read_json(dir + '/transactions.json')\n",
        "print(transactions.shape)"
      ],
      "metadata": {
        "colab": {
          "base_uri": "https://localhost:8080/"
        },
        "id": "TJ9ZBgOqKQVh",
        "outputId": "24492336-6f00-44e9-ad94-4d6cd072da6e"
      },
      "execution_count": null,
      "outputs": [
        {
          "output_type": "stream",
          "name": "stdout",
          "text": [
            "(306534, 4)\n"
          ]
        }
      ]
    },
    {
      "cell_type": "code",
      "source": [
        "# A coluna value é um json, e precisa ser distribuida em colunas\n",
        "info_expandido = transactions['value'].apply(pd.Series)\n",
        "transactions = pd.concat([transactions.drop(columns='value'), info_expandido], axis=1)\n",
        "transactions.columns = ['event', 'account_id', 'time_since_test_start', 'amount', 'offer_id','offer_id_info', 'reward']\n",
        "transactions.head(1)"
      ],
      "metadata": {
        "colab": {
          "base_uri": "https://localhost:8080/",
          "height": 80
        },
        "id": "IBv67CJyRgPZ",
        "outputId": "401b7784-b889-41cc-a6b3-59e7f9c24dbb"
      },
      "execution_count": null,
      "outputs": [
        {
          "output_type": "execute_result",
          "data": {
            "text/plain": [
              "            event                        account_id  time_since_test_start  \\\n",
              "0  offer received  78afa995795e4d85b5d9ceeca43f5fef                   0.00   \n",
              "\n",
              "   amount                          offer_id offer_id_info  reward  \n",
              "0     NaN  9b98b8c7a33c4b65b9aebfe6a799e6d9          None     NaN  "
            ],
            "text/html": [
              "\n",
              "  <div id=\"df-d5102551-52a5-4f51-85b0-be65f8867d1e\" class=\"colab-df-container\">\n",
              "    <div>\n",
              "<style scoped>\n",
              "    .dataframe tbody tr th:only-of-type {\n",
              "        vertical-align: middle;\n",
              "    }\n",
              "\n",
              "    .dataframe tbody tr th {\n",
              "        vertical-align: top;\n",
              "    }\n",
              "\n",
              "    .dataframe thead th {\n",
              "        text-align: right;\n",
              "    }\n",
              "</style>\n",
              "<table border=\"1\" class=\"dataframe\">\n",
              "  <thead>\n",
              "    <tr style=\"text-align: right;\">\n",
              "      <th></th>\n",
              "      <th>event</th>\n",
              "      <th>account_id</th>\n",
              "      <th>time_since_test_start</th>\n",
              "      <th>amount</th>\n",
              "      <th>offer_id</th>\n",
              "      <th>offer_id_info</th>\n",
              "      <th>reward</th>\n",
              "    </tr>\n",
              "  </thead>\n",
              "  <tbody>\n",
              "    <tr>\n",
              "      <th>0</th>\n",
              "      <td>offer received</td>\n",
              "      <td>78afa995795e4d85b5d9ceeca43f5fef</td>\n",
              "      <td>0.00</td>\n",
              "      <td>NaN</td>\n",
              "      <td>9b98b8c7a33c4b65b9aebfe6a799e6d9</td>\n",
              "      <td>None</td>\n",
              "      <td>NaN</td>\n",
              "    </tr>\n",
              "  </tbody>\n",
              "</table>\n",
              "</div>\n",
              "    <div class=\"colab-df-buttons\">\n",
              "\n",
              "  <div class=\"colab-df-container\">\n",
              "    <button class=\"colab-df-convert\" onclick=\"convertToInteractive('df-d5102551-52a5-4f51-85b0-be65f8867d1e')\"\n",
              "            title=\"Convert this dataframe to an interactive table.\"\n",
              "            style=\"display:none;\">\n",
              "\n",
              "  <svg xmlns=\"http://www.w3.org/2000/svg\" height=\"24px\" viewBox=\"0 -960 960 960\">\n",
              "    <path d=\"M120-120v-720h720v720H120Zm60-500h600v-160H180v160Zm220 220h160v-160H400v160Zm0 220h160v-160H400v160ZM180-400h160v-160H180v160Zm440 0h160v-160H620v160ZM180-180h160v-160H180v160Zm440 0h160v-160H620v160Z\"/>\n",
              "  </svg>\n",
              "    </button>\n",
              "\n",
              "  <style>\n",
              "    .colab-df-container {\n",
              "      display:flex;\n",
              "      gap: 12px;\n",
              "    }\n",
              "\n",
              "    .colab-df-convert {\n",
              "      background-color: #E8F0FE;\n",
              "      border: none;\n",
              "      border-radius: 50%;\n",
              "      cursor: pointer;\n",
              "      display: none;\n",
              "      fill: #1967D2;\n",
              "      height: 32px;\n",
              "      padding: 0 0 0 0;\n",
              "      width: 32px;\n",
              "    }\n",
              "\n",
              "    .colab-df-convert:hover {\n",
              "      background-color: #E2EBFA;\n",
              "      box-shadow: 0px 1px 2px rgba(60, 64, 67, 0.3), 0px 1px 3px 1px rgba(60, 64, 67, 0.15);\n",
              "      fill: #174EA6;\n",
              "    }\n",
              "\n",
              "    .colab-df-buttons div {\n",
              "      margin-bottom: 4px;\n",
              "    }\n",
              "\n",
              "    [theme=dark] .colab-df-convert {\n",
              "      background-color: #3B4455;\n",
              "      fill: #D2E3FC;\n",
              "    }\n",
              "\n",
              "    [theme=dark] .colab-df-convert:hover {\n",
              "      background-color: #434B5C;\n",
              "      box-shadow: 0px 1px 3px 1px rgba(0, 0, 0, 0.15);\n",
              "      filter: drop-shadow(0px 1px 2px rgba(0, 0, 0, 0.3));\n",
              "      fill: #FFFFFF;\n",
              "    }\n",
              "  </style>\n",
              "\n",
              "    <script>\n",
              "      const buttonEl =\n",
              "        document.querySelector('#df-d5102551-52a5-4f51-85b0-be65f8867d1e button.colab-df-convert');\n",
              "      buttonEl.style.display =\n",
              "        google.colab.kernel.accessAllowed ? 'block' : 'none';\n",
              "\n",
              "      async function convertToInteractive(key) {\n",
              "        const element = document.querySelector('#df-d5102551-52a5-4f51-85b0-be65f8867d1e');\n",
              "        const dataTable =\n",
              "          await google.colab.kernel.invokeFunction('convertToInteractive',\n",
              "                                                    [key], {});\n",
              "        if (!dataTable) return;\n",
              "\n",
              "        const docLinkHtml = 'Like what you see? Visit the ' +\n",
              "          '<a target=\"_blank\" href=https://colab.research.google.com/notebooks/data_table.ipynb>data table notebook</a>'\n",
              "          + ' to learn more about interactive tables.';\n",
              "        element.innerHTML = '';\n",
              "        dataTable['output_type'] = 'display_data';\n",
              "        await google.colab.output.renderOutput(dataTable, element);\n",
              "        const docLink = document.createElement('div');\n",
              "        docLink.innerHTML = docLinkHtml;\n",
              "        element.appendChild(docLink);\n",
              "      }\n",
              "    </script>\n",
              "  </div>\n",
              "\n",
              "\n",
              "    </div>\n",
              "  </div>\n"
            ],
            "application/vnd.google.colaboratory.intrinsic+json": {
              "type": "dataframe",
              "variable_name": "transactions"
            }
          },
          "metadata": {},
          "execution_count": 4
        }
      ]
    },
    {
      "cell_type": "code",
      "source": [
        "# Cria a coluna com o valor do id da oferta, pois tem duas colunas com a mesma informação\n",
        "transactions['offer_id_pk'] = transactions['offer_id'].fillna(transactions['offer_id_info'])\n",
        "print(transactions.shape)"
      ],
      "metadata": {
        "colab": {
          "base_uri": "https://localhost:8080/"
        },
        "id": "rdaLPPcEUjSa",
        "outputId": "9329c8a2-19da-4d36-9caf-e21a06cab341"
      },
      "execution_count": null,
      "outputs": [
        {
          "output_type": "stream",
          "name": "stdout",
          "text": [
            "(306534, 8)\n"
          ]
        }
      ]
    },
    {
      "cell_type": "markdown",
      "source": [
        "## Profile Dataset"
      ],
      "metadata": {
        "id": "OdApcAqiRaGS"
      }
    },
    {
      "cell_type": "code",
      "source": [
        "# Leitura da base de dados do perfil dos clientes\n",
        "profile = pd.read_json(dir + '/profile.json')\n",
        "profile.columns = ['age', 'registered_on','gender','profile_id', 'credit_card_limit']\n",
        "profile.head(1)"
      ],
      "metadata": {
        "colab": {
          "base_uri": "https://localhost:8080/",
          "height": 80
        },
        "id": "0muR9DMCRUhJ",
        "outputId": "2b367caa-a326-40b3-9cba-b2c1ae14ddcb"
      },
      "execution_count": null,
      "outputs": [
        {
          "output_type": "execute_result",
          "data": {
            "text/plain": [
              "   age  registered_on gender                        profile_id  \\\n",
              "0  118       20170212   None  68be06ca386d4c31939f3a4f0e3dd783   \n",
              "\n",
              "   credit_card_limit  \n",
              "0                NaN  "
            ],
            "text/html": [
              "\n",
              "  <div id=\"df-fe49e5fa-b103-48b2-8921-7fef9370ccaf\" class=\"colab-df-container\">\n",
              "    <div>\n",
              "<style scoped>\n",
              "    .dataframe tbody tr th:only-of-type {\n",
              "        vertical-align: middle;\n",
              "    }\n",
              "\n",
              "    .dataframe tbody tr th {\n",
              "        vertical-align: top;\n",
              "    }\n",
              "\n",
              "    .dataframe thead th {\n",
              "        text-align: right;\n",
              "    }\n",
              "</style>\n",
              "<table border=\"1\" class=\"dataframe\">\n",
              "  <thead>\n",
              "    <tr style=\"text-align: right;\">\n",
              "      <th></th>\n",
              "      <th>age</th>\n",
              "      <th>registered_on</th>\n",
              "      <th>gender</th>\n",
              "      <th>profile_id</th>\n",
              "      <th>credit_card_limit</th>\n",
              "    </tr>\n",
              "  </thead>\n",
              "  <tbody>\n",
              "    <tr>\n",
              "      <th>0</th>\n",
              "      <td>118</td>\n",
              "      <td>20170212</td>\n",
              "      <td>None</td>\n",
              "      <td>68be06ca386d4c31939f3a4f0e3dd783</td>\n",
              "      <td>NaN</td>\n",
              "    </tr>\n",
              "  </tbody>\n",
              "</table>\n",
              "</div>\n",
              "    <div class=\"colab-df-buttons\">\n",
              "\n",
              "  <div class=\"colab-df-container\">\n",
              "    <button class=\"colab-df-convert\" onclick=\"convertToInteractive('df-fe49e5fa-b103-48b2-8921-7fef9370ccaf')\"\n",
              "            title=\"Convert this dataframe to an interactive table.\"\n",
              "            style=\"display:none;\">\n",
              "\n",
              "  <svg xmlns=\"http://www.w3.org/2000/svg\" height=\"24px\" viewBox=\"0 -960 960 960\">\n",
              "    <path d=\"M120-120v-720h720v720H120Zm60-500h600v-160H180v160Zm220 220h160v-160H400v160Zm0 220h160v-160H400v160ZM180-400h160v-160H180v160Zm440 0h160v-160H620v160ZM180-180h160v-160H180v160Zm440 0h160v-160H620v160Z\"/>\n",
              "  </svg>\n",
              "    </button>\n",
              "\n",
              "  <style>\n",
              "    .colab-df-container {\n",
              "      display:flex;\n",
              "      gap: 12px;\n",
              "    }\n",
              "\n",
              "    .colab-df-convert {\n",
              "      background-color: #E8F0FE;\n",
              "      border: none;\n",
              "      border-radius: 50%;\n",
              "      cursor: pointer;\n",
              "      display: none;\n",
              "      fill: #1967D2;\n",
              "      height: 32px;\n",
              "      padding: 0 0 0 0;\n",
              "      width: 32px;\n",
              "    }\n",
              "\n",
              "    .colab-df-convert:hover {\n",
              "      background-color: #E2EBFA;\n",
              "      box-shadow: 0px 1px 2px rgba(60, 64, 67, 0.3), 0px 1px 3px 1px rgba(60, 64, 67, 0.15);\n",
              "      fill: #174EA6;\n",
              "    }\n",
              "\n",
              "    .colab-df-buttons div {\n",
              "      margin-bottom: 4px;\n",
              "    }\n",
              "\n",
              "    [theme=dark] .colab-df-convert {\n",
              "      background-color: #3B4455;\n",
              "      fill: #D2E3FC;\n",
              "    }\n",
              "\n",
              "    [theme=dark] .colab-df-convert:hover {\n",
              "      background-color: #434B5C;\n",
              "      box-shadow: 0px 1px 3px 1px rgba(0, 0, 0, 0.15);\n",
              "      filter: drop-shadow(0px 1px 2px rgba(0, 0, 0, 0.3));\n",
              "      fill: #FFFFFF;\n",
              "    }\n",
              "  </style>\n",
              "\n",
              "    <script>\n",
              "      const buttonEl =\n",
              "        document.querySelector('#df-fe49e5fa-b103-48b2-8921-7fef9370ccaf button.colab-df-convert');\n",
              "      buttonEl.style.display =\n",
              "        google.colab.kernel.accessAllowed ? 'block' : 'none';\n",
              "\n",
              "      async function convertToInteractive(key) {\n",
              "        const element = document.querySelector('#df-fe49e5fa-b103-48b2-8921-7fef9370ccaf');\n",
              "        const dataTable =\n",
              "          await google.colab.kernel.invokeFunction('convertToInteractive',\n",
              "                                                    [key], {});\n",
              "        if (!dataTable) return;\n",
              "\n",
              "        const docLinkHtml = 'Like what you see? Visit the ' +\n",
              "          '<a target=\"_blank\" href=https://colab.research.google.com/notebooks/data_table.ipynb>data table notebook</a>'\n",
              "          + ' to learn more about interactive tables.';\n",
              "        element.innerHTML = '';\n",
              "        dataTable['output_type'] = 'display_data';\n",
              "        await google.colab.output.renderOutput(dataTable, element);\n",
              "        const docLink = document.createElement('div');\n",
              "        docLink.innerHTML = docLinkHtml;\n",
              "        element.appendChild(docLink);\n",
              "      }\n",
              "    </script>\n",
              "  </div>\n",
              "\n",
              "\n",
              "    </div>\n",
              "  </div>\n"
            ],
            "application/vnd.google.colaboratory.intrinsic+json": {
              "type": "dataframe",
              "variable_name": "profile",
              "summary": "{\n  \"name\": \"profile\",\n  \"rows\": 17000,\n  \"fields\": [\n    {\n      \"column\": \"age\",\n      \"properties\": {\n        \"dtype\": \"number\",\n        \"std\": 26,\n        \"min\": 18,\n        \"max\": 118,\n        \"num_unique_values\": 85,\n        \"samples\": [\n          93,\n          118,\n          100\n        ],\n        \"semantic_type\": \"\",\n        \"description\": \"\"\n      }\n    },\n    {\n      \"column\": \"registered_on\",\n      \"properties\": {\n        \"dtype\": \"number\",\n        \"std\": 11677,\n        \"min\": 20130729,\n        \"max\": 20180726,\n        \"num_unique_values\": 1716,\n        \"samples\": [\n          20160603,\n          20140920,\n          20141104\n        ],\n        \"semantic_type\": \"\",\n        \"description\": \"\"\n      }\n    },\n    {\n      \"column\": \"gender\",\n      \"properties\": {\n        \"dtype\": \"category\",\n        \"num_unique_values\": 3,\n        \"samples\": [\n          \"F\",\n          \"M\",\n          \"O\"\n        ],\n        \"semantic_type\": \"\",\n        \"description\": \"\"\n      }\n    },\n    {\n      \"column\": \"profile_id\",\n      \"properties\": {\n        \"dtype\": \"string\",\n        \"num_unique_values\": 17000,\n        \"samples\": [\n          \"d3647ba4dc644f5a96e58007360589b4\",\n          \"2dab8c385a2440b78b432ecb72d68787\",\n          \"33ca79edeaf946929d96acd1d4c1d4eb\"\n        ],\n        \"semantic_type\": \"\",\n        \"description\": \"\"\n      }\n    },\n    {\n      \"column\": \"credit_card_limit\",\n      \"properties\": {\n        \"dtype\": \"number\",\n        \"std\": 21598.299410229574,\n        \"min\": 30000.0,\n        \"max\": 120000.0,\n        \"num_unique_values\": 91,\n        \"samples\": [\n          91000.0,\n          37000.0,\n          79000.0\n        ],\n        \"semantic_type\": \"\",\n        \"description\": \"\"\n      }\n    }\n  ]\n}"
            }
          },
          "metadata": {},
          "execution_count": 6
        }
      ]
    },
    {
      "cell_type": "code",
      "source": [
        "profile.shape"
      ],
      "metadata": {
        "colab": {
          "base_uri": "https://localhost:8080/"
        },
        "id": "Ck53JTstIWR5",
        "outputId": "d0d28a5d-7d92-4277-b47e-75a971b47fed"
      },
      "execution_count": null,
      "outputs": [
        {
          "output_type": "execute_result",
          "data": {
            "text/plain": [
              "(17000, 5)"
            ]
          },
          "metadata": {},
          "execution_count": 7
        }
      ]
    },
    {
      "cell_type": "markdown",
      "source": [
        "## Offers Dataset"
      ],
      "metadata": {
        "id": "Q5t-0l6SRtvC"
      }
    },
    {
      "cell_type": "code",
      "source": [
        "# Leitura da base de dados de transações\n",
        "offers = pd.read_json(dir + '/offers.json')\n",
        "\n",
        "### Expandir lista de canais por oferta\n",
        "canal_expandido = offers['channels'].apply(pd.Series)\n",
        "offers = pd.concat([offers, canal_expandido], axis=1)\n",
        "offers.columns = ['channels', 'min_value', 'duration', 'offer_id', 'offer_type','discount_value',\n",
        "                  'channel_0','channel_1','channel_2','channel_3']\n",
        "print(offers.shape)\n",
        "offers.head(1)"
      ],
      "metadata": {
        "colab": {
          "base_uri": "https://localhost:8080/",
          "height": 99
        },
        "id": "w5stZN9LRUkf",
        "outputId": "606e6476-dd0f-4f9d-fe8b-7c989de49cfe"
      },
      "execution_count": null,
      "outputs": [
        {
          "output_type": "stream",
          "name": "stdout",
          "text": [
            "(10, 10)\n"
          ]
        },
        {
          "output_type": "execute_result",
          "data": {
            "text/plain": [
              "                  channels  min_value  duration  \\\n",
              "0  [email, mobile, social]         10         7   \n",
              "\n",
              "                           offer_id offer_type  discount_value channel_0  \\\n",
              "0  ae264e3637204a6fb9bb56bc8210ddfd       bogo              10     email   \n",
              "\n",
              "  channel_1 channel_2 channel_3  \n",
              "0    mobile    social       NaN  "
            ],
            "text/html": [
              "\n",
              "  <div id=\"df-d76c50aa-fdf1-45dd-aa46-0664a1e35a33\" class=\"colab-df-container\">\n",
              "    <div>\n",
              "<style scoped>\n",
              "    .dataframe tbody tr th:only-of-type {\n",
              "        vertical-align: middle;\n",
              "    }\n",
              "\n",
              "    .dataframe tbody tr th {\n",
              "        vertical-align: top;\n",
              "    }\n",
              "\n",
              "    .dataframe thead th {\n",
              "        text-align: right;\n",
              "    }\n",
              "</style>\n",
              "<table border=\"1\" class=\"dataframe\">\n",
              "  <thead>\n",
              "    <tr style=\"text-align: right;\">\n",
              "      <th></th>\n",
              "      <th>channels</th>\n",
              "      <th>min_value</th>\n",
              "      <th>duration</th>\n",
              "      <th>offer_id</th>\n",
              "      <th>offer_type</th>\n",
              "      <th>discount_value</th>\n",
              "      <th>channel_0</th>\n",
              "      <th>channel_1</th>\n",
              "      <th>channel_2</th>\n",
              "      <th>channel_3</th>\n",
              "    </tr>\n",
              "  </thead>\n",
              "  <tbody>\n",
              "    <tr>\n",
              "      <th>0</th>\n",
              "      <td>[email, mobile, social]</td>\n",
              "      <td>10</td>\n",
              "      <td>7</td>\n",
              "      <td>ae264e3637204a6fb9bb56bc8210ddfd</td>\n",
              "      <td>bogo</td>\n",
              "      <td>10</td>\n",
              "      <td>email</td>\n",
              "      <td>mobile</td>\n",
              "      <td>social</td>\n",
              "      <td>NaN</td>\n",
              "    </tr>\n",
              "  </tbody>\n",
              "</table>\n",
              "</div>\n",
              "    <div class=\"colab-df-buttons\">\n",
              "\n",
              "  <div class=\"colab-df-container\">\n",
              "    <button class=\"colab-df-convert\" onclick=\"convertToInteractive('df-d76c50aa-fdf1-45dd-aa46-0664a1e35a33')\"\n",
              "            title=\"Convert this dataframe to an interactive table.\"\n",
              "            style=\"display:none;\">\n",
              "\n",
              "  <svg xmlns=\"http://www.w3.org/2000/svg\" height=\"24px\" viewBox=\"0 -960 960 960\">\n",
              "    <path d=\"M120-120v-720h720v720H120Zm60-500h600v-160H180v160Zm220 220h160v-160H400v160Zm0 220h160v-160H400v160ZM180-400h160v-160H180v160Zm440 0h160v-160H620v160ZM180-180h160v-160H180v160Zm440 0h160v-160H620v160Z\"/>\n",
              "  </svg>\n",
              "    </button>\n",
              "\n",
              "  <style>\n",
              "    .colab-df-container {\n",
              "      display:flex;\n",
              "      gap: 12px;\n",
              "    }\n",
              "\n",
              "    .colab-df-convert {\n",
              "      background-color: #E8F0FE;\n",
              "      border: none;\n",
              "      border-radius: 50%;\n",
              "      cursor: pointer;\n",
              "      display: none;\n",
              "      fill: #1967D2;\n",
              "      height: 32px;\n",
              "      padding: 0 0 0 0;\n",
              "      width: 32px;\n",
              "    }\n",
              "\n",
              "    .colab-df-convert:hover {\n",
              "      background-color: #E2EBFA;\n",
              "      box-shadow: 0px 1px 2px rgba(60, 64, 67, 0.3), 0px 1px 3px 1px rgba(60, 64, 67, 0.15);\n",
              "      fill: #174EA6;\n",
              "    }\n",
              "\n",
              "    .colab-df-buttons div {\n",
              "      margin-bottom: 4px;\n",
              "    }\n",
              "\n",
              "    [theme=dark] .colab-df-convert {\n",
              "      background-color: #3B4455;\n",
              "      fill: #D2E3FC;\n",
              "    }\n",
              "\n",
              "    [theme=dark] .colab-df-convert:hover {\n",
              "      background-color: #434B5C;\n",
              "      box-shadow: 0px 1px 3px 1px rgba(0, 0, 0, 0.15);\n",
              "      filter: drop-shadow(0px 1px 2px rgba(0, 0, 0, 0.3));\n",
              "      fill: #FFFFFF;\n",
              "    }\n",
              "  </style>\n",
              "\n",
              "    <script>\n",
              "      const buttonEl =\n",
              "        document.querySelector('#df-d76c50aa-fdf1-45dd-aa46-0664a1e35a33 button.colab-df-convert');\n",
              "      buttonEl.style.display =\n",
              "        google.colab.kernel.accessAllowed ? 'block' : 'none';\n",
              "\n",
              "      async function convertToInteractive(key) {\n",
              "        const element = document.querySelector('#df-d76c50aa-fdf1-45dd-aa46-0664a1e35a33');\n",
              "        const dataTable =\n",
              "          await google.colab.kernel.invokeFunction('convertToInteractive',\n",
              "                                                    [key], {});\n",
              "        if (!dataTable) return;\n",
              "\n",
              "        const docLinkHtml = 'Like what you see? Visit the ' +\n",
              "          '<a target=\"_blank\" href=https://colab.research.google.com/notebooks/data_table.ipynb>data table notebook</a>'\n",
              "          + ' to learn more about interactive tables.';\n",
              "        element.innerHTML = '';\n",
              "        dataTable['output_type'] = 'display_data';\n",
              "        await google.colab.output.renderOutput(dataTable, element);\n",
              "        const docLink = document.createElement('div');\n",
              "        docLink.innerHTML = docLinkHtml;\n",
              "        element.appendChild(docLink);\n",
              "      }\n",
              "    </script>\n",
              "  </div>\n",
              "\n",
              "\n",
              "    </div>\n",
              "  </div>\n"
            ],
            "application/vnd.google.colaboratory.intrinsic+json": {
              "type": "dataframe",
              "variable_name": "offers",
              "summary": "{\n  \"name\": \"offers\",\n  \"rows\": 10,\n  \"fields\": [\n    {\n      \"column\": \"channels\",\n      \"properties\": {\n        \"dtype\": \"object\",\n        \"semantic_type\": \"\",\n        \"description\": \"\"\n      }\n    },\n    {\n      \"column\": \"min_value\",\n      \"properties\": {\n        \"dtype\": \"number\",\n        \"std\": 5,\n        \"min\": 0,\n        \"max\": 20,\n        \"num_unique_values\": 5,\n        \"samples\": [\n          0,\n          7,\n          5\n        ],\n        \"semantic_type\": \"\",\n        \"description\": \"\"\n      }\n    },\n    {\n      \"column\": \"duration\",\n      \"properties\": {\n        \"dtype\": \"number\",\n        \"std\": 2,\n        \"min\": 3,\n        \"max\": 10,\n        \"num_unique_values\": 5,\n        \"samples\": [\n          5,\n          3,\n          4\n        ],\n        \"semantic_type\": \"\",\n        \"description\": \"\"\n      }\n    },\n    {\n      \"column\": \"offer_id\",\n      \"properties\": {\n        \"dtype\": \"string\",\n        \"num_unique_values\": 10,\n        \"samples\": [\n          \"f19421c1d4aa40978ebb69ca19b0e20d\",\n          \"4d5c57ea9a6940dd891ad53e9dbe8da0\",\n          \"2298d6c36e964ae4a3e7e9706d1fb8c2\"\n        ],\n        \"semantic_type\": \"\",\n        \"description\": \"\"\n      }\n    },\n    {\n      \"column\": \"offer_type\",\n      \"properties\": {\n        \"dtype\": \"category\",\n        \"num_unique_values\": 3,\n        \"samples\": [\n          \"bogo\",\n          \"informational\",\n          \"discount\"\n        ],\n        \"semantic_type\": \"\",\n        \"description\": \"\"\n      }\n    },\n    {\n      \"column\": \"discount_value\",\n      \"properties\": {\n        \"dtype\": \"number\",\n        \"std\": 3,\n        \"min\": 0,\n        \"max\": 10,\n        \"num_unique_values\": 5,\n        \"samples\": [\n          0,\n          2,\n          5\n        ],\n        \"semantic_type\": \"\",\n        \"description\": \"\"\n      }\n    },\n    {\n      \"column\": \"channel_0\",\n      \"properties\": {\n        \"dtype\": \"category\",\n        \"num_unique_values\": 2,\n        \"samples\": [\n          \"web\",\n          \"email\"\n        ],\n        \"semantic_type\": \"\",\n        \"description\": \"\"\n      }\n    },\n    {\n      \"column\": \"channel_1\",\n      \"properties\": {\n        \"dtype\": \"category\",\n        \"num_unique_values\": 2,\n        \"samples\": [\n          \"email\",\n          \"mobile\"\n        ],\n        \"semantic_type\": \"\",\n        \"description\": \"\"\n      }\n    },\n    {\n      \"column\": \"channel_2\",\n      \"properties\": {\n        \"dtype\": \"category\",\n        \"num_unique_values\": 2,\n        \"samples\": [\n          \"mobile\",\n          \"social\"\n        ],\n        \"semantic_type\": \"\",\n        \"description\": \"\"\n      }\n    },\n    {\n      \"column\": \"channel_3\",\n      \"properties\": {\n        \"dtype\": \"category\",\n        \"num_unique_values\": 1,\n        \"samples\": [\n          \"social\"\n        ],\n        \"semantic_type\": \"\",\n        \"description\": \"\"\n      }\n    }\n  ]\n}"
            }
          },
          "metadata": {},
          "execution_count": 8
        }
      ]
    },
    {
      "cell_type": "markdown",
      "source": [
        "## Join Datasets"
      ],
      "metadata": {
        "id": "DxHtVYeWTz7q"
      }
    },
    {
      "cell_type": "code",
      "source": [
        "df = transactions.merge(profile, how='left', left_on='account_id', right_on='profile_id')\n",
        "print(df.shape)\n",
        "df.head(1)"
      ],
      "metadata": {
        "colab": {
          "base_uri": "https://localhost:8080/",
          "height": 136
        },
        "id": "PZdUZL_YRUti",
        "outputId": "6913b3d4-9384-4e5d-d0e6-a38638707b8b"
      },
      "execution_count": null,
      "outputs": [
        {
          "output_type": "stream",
          "name": "stdout",
          "text": [
            "(306534, 13)\n"
          ]
        },
        {
          "output_type": "execute_result",
          "data": {
            "text/plain": [
              "            event                        account_id  time_since_test_start  \\\n",
              "0  offer received  78afa995795e4d85b5d9ceeca43f5fef                   0.00   \n",
              "\n",
              "   amount                          offer_id offer_id_info  reward  \\\n",
              "0     NaN  9b98b8c7a33c4b65b9aebfe6a799e6d9          None     NaN   \n",
              "\n",
              "                        offer_id_pk  age  registered_on gender  \\\n",
              "0  9b98b8c7a33c4b65b9aebfe6a799e6d9   75       20170509      F   \n",
              "\n",
              "                         profile_id  credit_card_limit  \n",
              "0  78afa995795e4d85b5d9ceeca43f5fef          100000.00  "
            ],
            "text/html": [
              "\n",
              "  <div id=\"df-5d490a78-4cc0-4220-95ba-b2f57a094229\" class=\"colab-df-container\">\n",
              "    <div>\n",
              "<style scoped>\n",
              "    .dataframe tbody tr th:only-of-type {\n",
              "        vertical-align: middle;\n",
              "    }\n",
              "\n",
              "    .dataframe tbody tr th {\n",
              "        vertical-align: top;\n",
              "    }\n",
              "\n",
              "    .dataframe thead th {\n",
              "        text-align: right;\n",
              "    }\n",
              "</style>\n",
              "<table border=\"1\" class=\"dataframe\">\n",
              "  <thead>\n",
              "    <tr style=\"text-align: right;\">\n",
              "      <th></th>\n",
              "      <th>event</th>\n",
              "      <th>account_id</th>\n",
              "      <th>time_since_test_start</th>\n",
              "      <th>amount</th>\n",
              "      <th>offer_id</th>\n",
              "      <th>offer_id_info</th>\n",
              "      <th>reward</th>\n",
              "      <th>offer_id_pk</th>\n",
              "      <th>age</th>\n",
              "      <th>registered_on</th>\n",
              "      <th>gender</th>\n",
              "      <th>profile_id</th>\n",
              "      <th>credit_card_limit</th>\n",
              "    </tr>\n",
              "  </thead>\n",
              "  <tbody>\n",
              "    <tr>\n",
              "      <th>0</th>\n",
              "      <td>offer received</td>\n",
              "      <td>78afa995795e4d85b5d9ceeca43f5fef</td>\n",
              "      <td>0.00</td>\n",
              "      <td>NaN</td>\n",
              "      <td>9b98b8c7a33c4b65b9aebfe6a799e6d9</td>\n",
              "      <td>None</td>\n",
              "      <td>NaN</td>\n",
              "      <td>9b98b8c7a33c4b65b9aebfe6a799e6d9</td>\n",
              "      <td>75</td>\n",
              "      <td>20170509</td>\n",
              "      <td>F</td>\n",
              "      <td>78afa995795e4d85b5d9ceeca43f5fef</td>\n",
              "      <td>100000.00</td>\n",
              "    </tr>\n",
              "  </tbody>\n",
              "</table>\n",
              "</div>\n",
              "    <div class=\"colab-df-buttons\">\n",
              "\n",
              "  <div class=\"colab-df-container\">\n",
              "    <button class=\"colab-df-convert\" onclick=\"convertToInteractive('df-5d490a78-4cc0-4220-95ba-b2f57a094229')\"\n",
              "            title=\"Convert this dataframe to an interactive table.\"\n",
              "            style=\"display:none;\">\n",
              "\n",
              "  <svg xmlns=\"http://www.w3.org/2000/svg\" height=\"24px\" viewBox=\"0 -960 960 960\">\n",
              "    <path d=\"M120-120v-720h720v720H120Zm60-500h600v-160H180v160Zm220 220h160v-160H400v160Zm0 220h160v-160H400v160ZM180-400h160v-160H180v160Zm440 0h160v-160H620v160ZM180-180h160v-160H180v160Zm440 0h160v-160H620v160Z\"/>\n",
              "  </svg>\n",
              "    </button>\n",
              "\n",
              "  <style>\n",
              "    .colab-df-container {\n",
              "      display:flex;\n",
              "      gap: 12px;\n",
              "    }\n",
              "\n",
              "    .colab-df-convert {\n",
              "      background-color: #E8F0FE;\n",
              "      border: none;\n",
              "      border-radius: 50%;\n",
              "      cursor: pointer;\n",
              "      display: none;\n",
              "      fill: #1967D2;\n",
              "      height: 32px;\n",
              "      padding: 0 0 0 0;\n",
              "      width: 32px;\n",
              "    }\n",
              "\n",
              "    .colab-df-convert:hover {\n",
              "      background-color: #E2EBFA;\n",
              "      box-shadow: 0px 1px 2px rgba(60, 64, 67, 0.3), 0px 1px 3px 1px rgba(60, 64, 67, 0.15);\n",
              "      fill: #174EA6;\n",
              "    }\n",
              "\n",
              "    .colab-df-buttons div {\n",
              "      margin-bottom: 4px;\n",
              "    }\n",
              "\n",
              "    [theme=dark] .colab-df-convert {\n",
              "      background-color: #3B4455;\n",
              "      fill: #D2E3FC;\n",
              "    }\n",
              "\n",
              "    [theme=dark] .colab-df-convert:hover {\n",
              "      background-color: #434B5C;\n",
              "      box-shadow: 0px 1px 3px 1px rgba(0, 0, 0, 0.15);\n",
              "      filter: drop-shadow(0px 1px 2px rgba(0, 0, 0, 0.3));\n",
              "      fill: #FFFFFF;\n",
              "    }\n",
              "  </style>\n",
              "\n",
              "    <script>\n",
              "      const buttonEl =\n",
              "        document.querySelector('#df-5d490a78-4cc0-4220-95ba-b2f57a094229 button.colab-df-convert');\n",
              "      buttonEl.style.display =\n",
              "        google.colab.kernel.accessAllowed ? 'block' : 'none';\n",
              "\n",
              "      async function convertToInteractive(key) {\n",
              "        const element = document.querySelector('#df-5d490a78-4cc0-4220-95ba-b2f57a094229');\n",
              "        const dataTable =\n",
              "          await google.colab.kernel.invokeFunction('convertToInteractive',\n",
              "                                                    [key], {});\n",
              "        if (!dataTable) return;\n",
              "\n",
              "        const docLinkHtml = 'Like what you see? Visit the ' +\n",
              "          '<a target=\"_blank\" href=https://colab.research.google.com/notebooks/data_table.ipynb>data table notebook</a>'\n",
              "          + ' to learn more about interactive tables.';\n",
              "        element.innerHTML = '';\n",
              "        dataTable['output_type'] = 'display_data';\n",
              "        await google.colab.output.renderOutput(dataTable, element);\n",
              "        const docLink = document.createElement('div');\n",
              "        docLink.innerHTML = docLinkHtml;\n",
              "        element.appendChild(docLink);\n",
              "      }\n",
              "    </script>\n",
              "  </div>\n",
              "\n",
              "\n",
              "    </div>\n",
              "  </div>\n"
            ],
            "application/vnd.google.colaboratory.intrinsic+json": {
              "type": "dataframe",
              "variable_name": "df"
            }
          },
          "metadata": {},
          "execution_count": 9
        }
      ]
    },
    {
      "cell_type": "code",
      "source": [
        "df = df.merge(offers, how='left', left_on='offer_id_pk', right_on='offer_id')\n",
        "print(df.shape)\n",
        "df.head(1)"
      ],
      "metadata": {
        "id": "zIS9IJ2RRUwq",
        "colab": {
          "base_uri": "https://localhost:8080/",
          "height": 183
        },
        "outputId": "91580490-9f9e-46d5-a9b6-2ff9cea1736c"
      },
      "execution_count": null,
      "outputs": [
        {
          "output_type": "stream",
          "name": "stdout",
          "text": [
            "(306534, 23)\n"
          ]
        },
        {
          "output_type": "execute_result",
          "data": {
            "text/plain": [
              "            event                        account_id  time_since_test_start  \\\n",
              "0  offer received  78afa995795e4d85b5d9ceeca43f5fef                   0.00   \n",
              "\n",
              "   amount                        offer_id_x offer_id_info  reward  \\\n",
              "0     NaN  9b98b8c7a33c4b65b9aebfe6a799e6d9          None     NaN   \n",
              "\n",
              "                        offer_id_pk  age  registered_on  ...  \\\n",
              "0  9b98b8c7a33c4b65b9aebfe6a799e6d9   75       20170509  ...   \n",
              "\n",
              "               channels min_value  duration                        offer_id_y  \\\n",
              "0  [web, email, mobile]      5.00      7.00  9b98b8c7a33c4b65b9aebfe6a799e6d9   \n",
              "\n",
              "   offer_type  discount_value channel_0 channel_1  channel_2 channel_3  \n",
              "0        bogo            5.00       web     email     mobile       NaN  \n",
              "\n",
              "[1 rows x 23 columns]"
            ],
            "text/html": [
              "\n",
              "  <div id=\"df-96a58a12-e837-4ced-8df7-9ebf6342bec4\" class=\"colab-df-container\">\n",
              "    <div>\n",
              "<style scoped>\n",
              "    .dataframe tbody tr th:only-of-type {\n",
              "        vertical-align: middle;\n",
              "    }\n",
              "\n",
              "    .dataframe tbody tr th {\n",
              "        vertical-align: top;\n",
              "    }\n",
              "\n",
              "    .dataframe thead th {\n",
              "        text-align: right;\n",
              "    }\n",
              "</style>\n",
              "<table border=\"1\" class=\"dataframe\">\n",
              "  <thead>\n",
              "    <tr style=\"text-align: right;\">\n",
              "      <th></th>\n",
              "      <th>event</th>\n",
              "      <th>account_id</th>\n",
              "      <th>time_since_test_start</th>\n",
              "      <th>amount</th>\n",
              "      <th>offer_id_x</th>\n",
              "      <th>offer_id_info</th>\n",
              "      <th>reward</th>\n",
              "      <th>offer_id_pk</th>\n",
              "      <th>age</th>\n",
              "      <th>registered_on</th>\n",
              "      <th>...</th>\n",
              "      <th>channels</th>\n",
              "      <th>min_value</th>\n",
              "      <th>duration</th>\n",
              "      <th>offer_id_y</th>\n",
              "      <th>offer_type</th>\n",
              "      <th>discount_value</th>\n",
              "      <th>channel_0</th>\n",
              "      <th>channel_1</th>\n",
              "      <th>channel_2</th>\n",
              "      <th>channel_3</th>\n",
              "    </tr>\n",
              "  </thead>\n",
              "  <tbody>\n",
              "    <tr>\n",
              "      <th>0</th>\n",
              "      <td>offer received</td>\n",
              "      <td>78afa995795e4d85b5d9ceeca43f5fef</td>\n",
              "      <td>0.00</td>\n",
              "      <td>NaN</td>\n",
              "      <td>9b98b8c7a33c4b65b9aebfe6a799e6d9</td>\n",
              "      <td>None</td>\n",
              "      <td>NaN</td>\n",
              "      <td>9b98b8c7a33c4b65b9aebfe6a799e6d9</td>\n",
              "      <td>75</td>\n",
              "      <td>20170509</td>\n",
              "      <td>...</td>\n",
              "      <td>[web, email, mobile]</td>\n",
              "      <td>5.00</td>\n",
              "      <td>7.00</td>\n",
              "      <td>9b98b8c7a33c4b65b9aebfe6a799e6d9</td>\n",
              "      <td>bogo</td>\n",
              "      <td>5.00</td>\n",
              "      <td>web</td>\n",
              "      <td>email</td>\n",
              "      <td>mobile</td>\n",
              "      <td>NaN</td>\n",
              "    </tr>\n",
              "  </tbody>\n",
              "</table>\n",
              "<p>1 rows × 23 columns</p>\n",
              "</div>\n",
              "    <div class=\"colab-df-buttons\">\n",
              "\n",
              "  <div class=\"colab-df-container\">\n",
              "    <button class=\"colab-df-convert\" onclick=\"convertToInteractive('df-96a58a12-e837-4ced-8df7-9ebf6342bec4')\"\n",
              "            title=\"Convert this dataframe to an interactive table.\"\n",
              "            style=\"display:none;\">\n",
              "\n",
              "  <svg xmlns=\"http://www.w3.org/2000/svg\" height=\"24px\" viewBox=\"0 -960 960 960\">\n",
              "    <path d=\"M120-120v-720h720v720H120Zm60-500h600v-160H180v160Zm220 220h160v-160H400v160Zm0 220h160v-160H400v160ZM180-400h160v-160H180v160Zm440 0h160v-160H620v160ZM180-180h160v-160H180v160Zm440 0h160v-160H620v160Z\"/>\n",
              "  </svg>\n",
              "    </button>\n",
              "\n",
              "  <style>\n",
              "    .colab-df-container {\n",
              "      display:flex;\n",
              "      gap: 12px;\n",
              "    }\n",
              "\n",
              "    .colab-df-convert {\n",
              "      background-color: #E8F0FE;\n",
              "      border: none;\n",
              "      border-radius: 50%;\n",
              "      cursor: pointer;\n",
              "      display: none;\n",
              "      fill: #1967D2;\n",
              "      height: 32px;\n",
              "      padding: 0 0 0 0;\n",
              "      width: 32px;\n",
              "    }\n",
              "\n",
              "    .colab-df-convert:hover {\n",
              "      background-color: #E2EBFA;\n",
              "      box-shadow: 0px 1px 2px rgba(60, 64, 67, 0.3), 0px 1px 3px 1px rgba(60, 64, 67, 0.15);\n",
              "      fill: #174EA6;\n",
              "    }\n",
              "\n",
              "    .colab-df-buttons div {\n",
              "      margin-bottom: 4px;\n",
              "    }\n",
              "\n",
              "    [theme=dark] .colab-df-convert {\n",
              "      background-color: #3B4455;\n",
              "      fill: #D2E3FC;\n",
              "    }\n",
              "\n",
              "    [theme=dark] .colab-df-convert:hover {\n",
              "      background-color: #434B5C;\n",
              "      box-shadow: 0px 1px 3px 1px rgba(0, 0, 0, 0.15);\n",
              "      filter: drop-shadow(0px 1px 2px rgba(0, 0, 0, 0.3));\n",
              "      fill: #FFFFFF;\n",
              "    }\n",
              "  </style>\n",
              "\n",
              "    <script>\n",
              "      const buttonEl =\n",
              "        document.querySelector('#df-96a58a12-e837-4ced-8df7-9ebf6342bec4 button.colab-df-convert');\n",
              "      buttonEl.style.display =\n",
              "        google.colab.kernel.accessAllowed ? 'block' : 'none';\n",
              "\n",
              "      async function convertToInteractive(key) {\n",
              "        const element = document.querySelector('#df-96a58a12-e837-4ced-8df7-9ebf6342bec4');\n",
              "        const dataTable =\n",
              "          await google.colab.kernel.invokeFunction('convertToInteractive',\n",
              "                                                    [key], {});\n",
              "        if (!dataTable) return;\n",
              "\n",
              "        const docLinkHtml = 'Like what you see? Visit the ' +\n",
              "          '<a target=\"_blank\" href=https://colab.research.google.com/notebooks/data_table.ipynb>data table notebook</a>'\n",
              "          + ' to learn more about interactive tables.';\n",
              "        element.innerHTML = '';\n",
              "        dataTable['output_type'] = 'display_data';\n",
              "        await google.colab.output.renderOutput(dataTable, element);\n",
              "        const docLink = document.createElement('div');\n",
              "        docLink.innerHTML = docLinkHtml;\n",
              "        element.appendChild(docLink);\n",
              "      }\n",
              "    </script>\n",
              "  </div>\n",
              "\n",
              "\n",
              "    </div>\n",
              "  </div>\n"
            ],
            "application/vnd.google.colaboratory.intrinsic+json": {
              "type": "dataframe",
              "variable_name": "df"
            }
          },
          "metadata": {},
          "execution_count": 10
        }
      ]
    },
    {
      "cell_type": "code",
      "source": [
        "df.columns"
      ],
      "metadata": {
        "id": "-oV6zbpBVoh6",
        "colab": {
          "base_uri": "https://localhost:8080/"
        },
        "outputId": "71bfe765-c0a3-47e1-c74a-e779d9baac24"
      },
      "execution_count": null,
      "outputs": [
        {
          "output_type": "execute_result",
          "data": {
            "text/plain": [
              "Index(['event', 'account_id', 'time_since_test_start', 'amount', 'offer_id_x',\n",
              "       'offer_id_info', 'reward', 'offer_id_pk', 'age', 'registered_on',\n",
              "       'gender', 'profile_id', 'credit_card_limit', 'channels', 'min_value',\n",
              "       'duration', 'offer_id_y', 'offer_type', 'discount_value', 'channel_0',\n",
              "       'channel_1', 'channel_2', 'channel_3'],\n",
              "      dtype='object')"
            ]
          },
          "metadata": {},
          "execution_count": 11
        }
      ]
    },
    {
      "cell_type": "code",
      "source": [
        "df = df[['account_id','profile_id','event', 'offer_id_pk','offer_id_info', 'time_since_test_start', 'amount',\n",
        "        'reward',  'age', 'registered_on',\n",
        "       'gender',  'credit_card_limit', 'min_value',\n",
        "       'duration', 'offer_type', 'discount_value', 'channel_0',\n",
        "       'channel_1', 'channel_2', 'channel_3']]"
      ],
      "metadata": {
        "id": "wzTNDqDsVsij"
      },
      "execution_count": null,
      "outputs": []
    },
    {
      "cell_type": "code",
      "source": [
        "# Verificar Duplicados\n",
        "print(df.shape)\n",
        "df = df.drop_duplicates()\n",
        "print(df.shape)"
      ],
      "metadata": {
        "id": "lDv-gpbJRU0C",
        "colab": {
          "base_uri": "https://localhost:8080/"
        },
        "outputId": "6c3579a9-8ed0-4e60-9b2a-c8289b3c4ef0"
      },
      "execution_count": null,
      "outputs": [
        {
          "output_type": "stream",
          "name": "stdout",
          "text": [
            "(306534, 20)\n",
            "(306137, 20)\n"
          ]
        }
      ]
    },
    {
      "cell_type": "code",
      "source": [
        "#Informações gerais da base de dados\n",
        "print('Quantidade de exemplos (linhas) :',df.shape[0])\n",
        "print('Quantidade de caracteristicas (colunas) :',df.shape[1])\n",
        "print('Quantidade de linhas duplicadas:',df[df.duplicated()].shape[0])"
      ],
      "metadata": {
        "id": "zgHmCRCO3Gpf",
        "colab": {
          "base_uri": "https://localhost:8080/"
        },
        "outputId": "5635ba52-5de0-4b9b-f632-b751cdf9c0d5"
      },
      "execution_count": null,
      "outputs": [
        {
          "output_type": "stream",
          "name": "stdout",
          "text": [
            "Quantidade de exemplos (linhas) : 306137\n",
            "Quantidade de caracteristicas (colunas) : 20\n",
            "Quantidade de linhas duplicadas: 0\n"
          ]
        }
      ]
    },
    {
      "cell_type": "code",
      "source": [
        "df.head(1)"
      ],
      "metadata": {
        "id": "O8NB01D7WRm5",
        "colab": {
          "base_uri": "https://localhost:8080/",
          "height": 118
        },
        "outputId": "8b8bf7fa-9311-40dc-d0d7-8fd275f480d4"
      },
      "execution_count": null,
      "outputs": [
        {
          "output_type": "execute_result",
          "data": {
            "text/plain": [
              "                         account_id                        profile_id  \\\n",
              "0  78afa995795e4d85b5d9ceeca43f5fef  78afa995795e4d85b5d9ceeca43f5fef   \n",
              "\n",
              "            event                       offer_id_pk offer_id_info  \\\n",
              "0  offer received  9b98b8c7a33c4b65b9aebfe6a799e6d9          None   \n",
              "\n",
              "   time_since_test_start  amount  reward  age  registered_on gender  \\\n",
              "0                   0.00     NaN     NaN   75       20170509      F   \n",
              "\n",
              "   credit_card_limit  min_value  duration offer_type  discount_value  \\\n",
              "0          100000.00       5.00      7.00       bogo            5.00   \n",
              "\n",
              "  channel_0 channel_1 channel_2 channel_3  \n",
              "0       web     email    mobile       NaN  "
            ],
            "text/html": [
              "\n",
              "  <div id=\"df-08fc5c9b-9052-4e16-83ff-9bf841ebd02d\" class=\"colab-df-container\">\n",
              "    <div>\n",
              "<style scoped>\n",
              "    .dataframe tbody tr th:only-of-type {\n",
              "        vertical-align: middle;\n",
              "    }\n",
              "\n",
              "    .dataframe tbody tr th {\n",
              "        vertical-align: top;\n",
              "    }\n",
              "\n",
              "    .dataframe thead th {\n",
              "        text-align: right;\n",
              "    }\n",
              "</style>\n",
              "<table border=\"1\" class=\"dataframe\">\n",
              "  <thead>\n",
              "    <tr style=\"text-align: right;\">\n",
              "      <th></th>\n",
              "      <th>account_id</th>\n",
              "      <th>profile_id</th>\n",
              "      <th>event</th>\n",
              "      <th>offer_id_pk</th>\n",
              "      <th>offer_id_info</th>\n",
              "      <th>time_since_test_start</th>\n",
              "      <th>amount</th>\n",
              "      <th>reward</th>\n",
              "      <th>age</th>\n",
              "      <th>registered_on</th>\n",
              "      <th>gender</th>\n",
              "      <th>credit_card_limit</th>\n",
              "      <th>min_value</th>\n",
              "      <th>duration</th>\n",
              "      <th>offer_type</th>\n",
              "      <th>discount_value</th>\n",
              "      <th>channel_0</th>\n",
              "      <th>channel_1</th>\n",
              "      <th>channel_2</th>\n",
              "      <th>channel_3</th>\n",
              "    </tr>\n",
              "  </thead>\n",
              "  <tbody>\n",
              "    <tr>\n",
              "      <th>0</th>\n",
              "      <td>78afa995795e4d85b5d9ceeca43f5fef</td>\n",
              "      <td>78afa995795e4d85b5d9ceeca43f5fef</td>\n",
              "      <td>offer received</td>\n",
              "      <td>9b98b8c7a33c4b65b9aebfe6a799e6d9</td>\n",
              "      <td>None</td>\n",
              "      <td>0.00</td>\n",
              "      <td>NaN</td>\n",
              "      <td>NaN</td>\n",
              "      <td>75</td>\n",
              "      <td>20170509</td>\n",
              "      <td>F</td>\n",
              "      <td>100000.00</td>\n",
              "      <td>5.00</td>\n",
              "      <td>7.00</td>\n",
              "      <td>bogo</td>\n",
              "      <td>5.00</td>\n",
              "      <td>web</td>\n",
              "      <td>email</td>\n",
              "      <td>mobile</td>\n",
              "      <td>NaN</td>\n",
              "    </tr>\n",
              "  </tbody>\n",
              "</table>\n",
              "</div>\n",
              "    <div class=\"colab-df-buttons\">\n",
              "\n",
              "  <div class=\"colab-df-container\">\n",
              "    <button class=\"colab-df-convert\" onclick=\"convertToInteractive('df-08fc5c9b-9052-4e16-83ff-9bf841ebd02d')\"\n",
              "            title=\"Convert this dataframe to an interactive table.\"\n",
              "            style=\"display:none;\">\n",
              "\n",
              "  <svg xmlns=\"http://www.w3.org/2000/svg\" height=\"24px\" viewBox=\"0 -960 960 960\">\n",
              "    <path d=\"M120-120v-720h720v720H120Zm60-500h600v-160H180v160Zm220 220h160v-160H400v160Zm0 220h160v-160H400v160ZM180-400h160v-160H180v160Zm440 0h160v-160H620v160ZM180-180h160v-160H180v160Zm440 0h160v-160H620v160Z\"/>\n",
              "  </svg>\n",
              "    </button>\n",
              "\n",
              "  <style>\n",
              "    .colab-df-container {\n",
              "      display:flex;\n",
              "      gap: 12px;\n",
              "    }\n",
              "\n",
              "    .colab-df-convert {\n",
              "      background-color: #E8F0FE;\n",
              "      border: none;\n",
              "      border-radius: 50%;\n",
              "      cursor: pointer;\n",
              "      display: none;\n",
              "      fill: #1967D2;\n",
              "      height: 32px;\n",
              "      padding: 0 0 0 0;\n",
              "      width: 32px;\n",
              "    }\n",
              "\n",
              "    .colab-df-convert:hover {\n",
              "      background-color: #E2EBFA;\n",
              "      box-shadow: 0px 1px 2px rgba(60, 64, 67, 0.3), 0px 1px 3px 1px rgba(60, 64, 67, 0.15);\n",
              "      fill: #174EA6;\n",
              "    }\n",
              "\n",
              "    .colab-df-buttons div {\n",
              "      margin-bottom: 4px;\n",
              "    }\n",
              "\n",
              "    [theme=dark] .colab-df-convert {\n",
              "      background-color: #3B4455;\n",
              "      fill: #D2E3FC;\n",
              "    }\n",
              "\n",
              "    [theme=dark] .colab-df-convert:hover {\n",
              "      background-color: #434B5C;\n",
              "      box-shadow: 0px 1px 3px 1px rgba(0, 0, 0, 0.15);\n",
              "      filter: drop-shadow(0px 1px 2px rgba(0, 0, 0, 0.3));\n",
              "      fill: #FFFFFF;\n",
              "    }\n",
              "  </style>\n",
              "\n",
              "    <script>\n",
              "      const buttonEl =\n",
              "        document.querySelector('#df-08fc5c9b-9052-4e16-83ff-9bf841ebd02d button.colab-df-convert');\n",
              "      buttonEl.style.display =\n",
              "        google.colab.kernel.accessAllowed ? 'block' : 'none';\n",
              "\n",
              "      async function convertToInteractive(key) {\n",
              "        const element = document.querySelector('#df-08fc5c9b-9052-4e16-83ff-9bf841ebd02d');\n",
              "        const dataTable =\n",
              "          await google.colab.kernel.invokeFunction('convertToInteractive',\n",
              "                                                    [key], {});\n",
              "        if (!dataTable) return;\n",
              "\n",
              "        const docLinkHtml = 'Like what you see? Visit the ' +\n",
              "          '<a target=\"_blank\" href=https://colab.research.google.com/notebooks/data_table.ipynb>data table notebook</a>'\n",
              "          + ' to learn more about interactive tables.';\n",
              "        element.innerHTML = '';\n",
              "        dataTable['output_type'] = 'display_data';\n",
              "        await google.colab.output.renderOutput(dataTable, element);\n",
              "        const docLink = document.createElement('div');\n",
              "        docLink.innerHTML = docLinkHtml;\n",
              "        element.appendChild(docLink);\n",
              "      }\n",
              "    </script>\n",
              "  </div>\n",
              "\n",
              "\n",
              "    </div>\n",
              "  </div>\n"
            ],
            "application/vnd.google.colaboratory.intrinsic+json": {
              "type": "dataframe",
              "variable_name": "df"
            }
          },
          "metadata": {},
          "execution_count": 15
        }
      ]
    },
    {
      "cell_type": "markdown",
      "source": [
        "# Construindo Target\n",
        "\n",
        "*   target = 1 , se cliente aderiu a oferta\n",
        "*   target = 0 , se cliente não aderiu a oferta\n",
        "\n"
      ],
      "metadata": {
        "id": "iWbLWdYyXI49"
      }
    },
    {
      "cell_type": "code",
      "source": [
        "df['event'].value_counts()"
      ],
      "metadata": {
        "id": "hcaaio5kXzLT",
        "colab": {
          "base_uri": "https://localhost:8080/",
          "height": 240
        },
        "outputId": "1a8b68c8-dcee-4d22-c3aa-b84dad971153"
      },
      "execution_count": null,
      "outputs": [
        {
          "output_type": "execute_result",
          "data": {
            "text/plain": [
              "event\n",
              "transaction        138953\n",
              "offer received      76277\n",
              "offer viewed        57725\n",
              "offer completed     33182\n",
              "Name: count, dtype: int64"
            ],
            "text/html": [
              "<div>\n",
              "<style scoped>\n",
              "    .dataframe tbody tr th:only-of-type {\n",
              "        vertical-align: middle;\n",
              "    }\n",
              "\n",
              "    .dataframe tbody tr th {\n",
              "        vertical-align: top;\n",
              "    }\n",
              "\n",
              "    .dataframe thead th {\n",
              "        text-align: right;\n",
              "    }\n",
              "</style>\n",
              "<table border=\"1\" class=\"dataframe\">\n",
              "  <thead>\n",
              "    <tr style=\"text-align: right;\">\n",
              "      <th></th>\n",
              "      <th>count</th>\n",
              "    </tr>\n",
              "    <tr>\n",
              "      <th>event</th>\n",
              "      <th></th>\n",
              "    </tr>\n",
              "  </thead>\n",
              "  <tbody>\n",
              "    <tr>\n",
              "      <th>transaction</th>\n",
              "      <td>138953</td>\n",
              "    </tr>\n",
              "    <tr>\n",
              "      <th>offer received</th>\n",
              "      <td>76277</td>\n",
              "    </tr>\n",
              "    <tr>\n",
              "      <th>offer viewed</th>\n",
              "      <td>57725</td>\n",
              "    </tr>\n",
              "    <tr>\n",
              "      <th>offer completed</th>\n",
              "      <td>33182</td>\n",
              "    </tr>\n",
              "  </tbody>\n",
              "</table>\n",
              "</div><br><label><b>dtype:</b> int64</label>"
            ]
          },
          "metadata": {},
          "execution_count": 16
        }
      ]
    },
    {
      "cell_type": "code",
      "source": [
        "df['target'] = (df['event'] == 'offer completed').astype(int)\n",
        "df['target'].value_counts().plot(kind='bar', figsize=(7, 5), color=['#2e5eb8', '#fa9c8c'])"
      ],
      "metadata": {
        "id": "KD5LBsIwX4Zc",
        "colab": {
          "base_uri": "https://localhost:8080/",
          "height": 478
        },
        "outputId": "61e3ec7d-b627-4eed-90dc-a53563fb5bfd"
      },
      "execution_count": null,
      "outputs": [
        {
          "output_type": "execute_result",
          "data": {
            "text/plain": [
              "<Axes: xlabel='target'>"
            ]
          },
          "metadata": {},
          "execution_count": 17
        },
        {
          "output_type": "display_data",
          "data": {
            "text/plain": [
              "<Figure size 700x500 with 1 Axes>"
            ],
            "image/png": "[encoded data removed]"
          },
          "metadata": {}
        }
      ]
    },
    {
      "cell_type": "markdown",
      "source": [
        "# Analise Exploratoria de Dados"
      ],
      "metadata": {
        "id": "g8Q5mB74VKVi"
      }
    },
    {
      "cell_type": "markdown",
      "source": [
        "## Criando novas variaveis"
      ],
      "metadata": {
        "id": "lyBG2zBkalbz"
      }
    },
    {
      "cell_type": "code",
      "source": [
        "conditions_idade = [\n",
        "    (df['age'] <= 25),\n",
        "    (df['age'] > 25) & (df['age'] <= 35),\n",
        "    (df['age'] > 35) & (df['age'] <= 45),\n",
        "    (df['age'] > 45) & (df['age'] <= 55),\n",
        "    (df['age'] > 55) & (df['age'] <= 65),\n",
        "    (df['age'] > 65) & (df['age'] <= 90),\n",
        "    (df['age'] > 90)\n",
        "    ]\n",
        "values_idade = ['Até 25', 'Entre 26 e 35', 'Entre 36 e 45', 'Entre 46 e 55', 'Entre 56 e 65','Entre 66 e 90', 'Acima de 90']\n",
        "df['Fx_Idade'] = np.select(\n",
        "    conditions_idade,\n",
        "    values_idade,\n",
        "    default='Não informado'  # ← tipo str, igual aos outros valores\n",
        ")\n",
        "df['Fx_Idade'] = pd.Categorical(df['Fx_Idade'], categories=values_idade, ordered=True)"
      ],
      "metadata": {
        "id": "fgIEgkSdPiea"
      },
      "execution_count": null,
      "outputs": []
    },
    {
      "cell_type": "code",
      "source": [
        "vl_age = df[['account_id','Fx_Idade']]\n",
        "print(vl_age.shape)\n",
        "vl_age = vl_age.drop_duplicates()\n",
        "print(vl_age.shape)"
      ],
      "metadata": {
        "colab": {
          "base_uri": "https://localhost:8080/"
        },
        "id": "Tm8UHo8XRPzj",
        "outputId": "47b95cf6-21ab-4459-b559-5b47d005e055"
      },
      "execution_count": null,
      "outputs": [
        {
          "output_type": "stream",
          "name": "stdout",
          "text": [
            "(306137, 2)\n",
            "(17000, 2)\n"
          ]
        }
      ]
    },
    {
      "cell_type": "code",
      "source": [
        "vl_age['Fx_Idade'].value_counts()"
      ],
      "metadata": {
        "colab": {
          "base_uri": "https://localhost:8080/",
          "height": 335
        },
        "id": "G4VOXgDMRGeE",
        "outputId": "dd9e51f8-b650-48d2-db7f-218fa5cc755e"
      },
      "execution_count": null,
      "outputs": [
        {
          "output_type": "execute_result",
          "data": {
            "text/plain": [
              "Fx_Idade\n",
              "Entre 66 e 90    3767\n",
              "Entre 56 e 65    3351\n",
              "Entre 46 e 55    3132\n",
              "Acima de 90      2394\n",
              "Entre 36 e 45    1982\n",
              "Entre 26 e 35    1362\n",
              "Até 25           1012\n",
              "Name: count, dtype: int64"
            ],
            "text/html": [
              "<div>\n",
              "<style scoped>\n",
              "    .dataframe tbody tr th:only-of-type {\n",
              "        vertical-align: middle;\n",
              "    }\n",
              "\n",
              "    .dataframe tbody tr th {\n",
              "        vertical-align: top;\n",
              "    }\n",
              "\n",
              "    .dataframe thead th {\n",
              "        text-align: right;\n",
              "    }\n",
              "</style>\n",
              "<table border=\"1\" class=\"dataframe\">\n",
              "  <thead>\n",
              "    <tr style=\"text-align: right;\">\n",
              "      <th></th>\n",
              "      <th>count</th>\n",
              "    </tr>\n",
              "    <tr>\n",
              "      <th>Fx_Idade</th>\n",
              "      <th></th>\n",
              "    </tr>\n",
              "  </thead>\n",
              "  <tbody>\n",
              "    <tr>\n",
              "      <th>Entre 66 e 90</th>\n",
              "      <td>3767</td>\n",
              "    </tr>\n",
              "    <tr>\n",
              "      <th>Entre 56 e 65</th>\n",
              "      <td>3351</td>\n",
              "    </tr>\n",
              "    <tr>\n",
              "      <th>Entre 46 e 55</th>\n",
              "      <td>3132</td>\n",
              "    </tr>\n",
              "    <tr>\n",
              "      <th>Acima de 90</th>\n",
              "      <td>2394</td>\n",
              "    </tr>\n",
              "    <tr>\n",
              "      <th>Entre 36 e 45</th>\n",
              "      <td>1982</td>\n",
              "    </tr>\n",
              "    <tr>\n",
              "      <th>Entre 26 e 35</th>\n",
              "      <td>1362</td>\n",
              "    </tr>\n",
              "    <tr>\n",
              "      <th>Até 25</th>\n",
              "      <td>1012</td>\n",
              "    </tr>\n",
              "  </tbody>\n",
              "</table>\n",
              "</div><br><label><b>dtype:</b> int64</label>"
            ]
          },
          "metadata": {},
          "execution_count": 20
        }
      ]
    },
    {
      "cell_type": "markdown",
      "source": [
        "### Tempo de conta ativa do cliente\n",
        "\n",
        "*   Tempo de conta de quem aderiu a oferta (laranja)\n",
        "*   Tempo de conta de todos os clientes (azul)\n",
        "\n"
      ],
      "metadata": {
        "id": "ozca_yEeassL"
      }
    },
    {
      "cell_type": "code",
      "source": [
        "# Criando variavel do tempo que o cliente tem conta ativa\n",
        "df['registered_date'] = pd.to_datetime(df['registered_on'], format='%Y%m%d')\n",
        "hoje = pd.to_datetime('2025-06-27')  # ou data da última transação\n",
        "\n",
        "df['account_age'] = ((hoje - df['registered_date']).dt.days / 365).round(2)"
      ],
      "metadata": {
        "id": "dsrH09YRayvL"
      },
      "execution_count": null,
      "outputs": []
    },
    {
      "cell_type": "code",
      "source": [
        "df_target = df[df['target'] == 1]\n",
        "df_no_target = df[df['target'] == 0]"
      ],
      "metadata": {
        "id": "ojdJSIF5hpVc"
      },
      "execution_count": null,
      "outputs": []
    },
    {
      "cell_type": "code",
      "source": [
        "conditions_age = [\n",
        "    (df['account_age'] <= 1),\n",
        "    (df['account_age'] > 1) & (df['account_age'] <= 5),\n",
        "    (df['account_age'] > 5) & (df['account_age'] <= 8),\n",
        "    (df['account_age'] > 8) & (df['account_age'] <= 10),\n",
        "    (df['account_age'] > 10)\n",
        "    ]\n",
        "values_age = ['Até 1', 'Entre 1 e 5', 'Entre 6 e 8', 'Entre 9 e 10',  'Acima de 10']\n",
        "df['Fx_Tempo_Conta'] = np.select(\n",
        "    conditions_age,\n",
        "    values_age,\n",
        "    default='Não informado'  # ← tipo str, igual aos outros valores\n",
        ")\n",
        "df['Fx_Tempo_Conta'] = pd.Categorical(df['Fx_Tempo_Conta'], categories=values_age, ordered=True)"
      ],
      "metadata": {
        "id": "Y0L7iDvhUUVD"
      },
      "execution_count": null,
      "outputs": []
    },
    {
      "cell_type": "code",
      "source": [
        "vl_conta_age = df[['account_id','Fx_Tempo_Conta']]\n",
        "print(vl_conta_age.shape)\n",
        "vl_conta_age = vl_conta_age.drop_duplicates()\n",
        "print(vl_conta_age.shape)"
      ],
      "metadata": {
        "colab": {
          "base_uri": "https://localhost:8080/"
        },
        "id": "jyOj5DIEVVh0",
        "outputId": "b704d6ca-5c62-42ae-dbbf-aefe9a4c1e74"
      },
      "execution_count": null,
      "outputs": [
        {
          "output_type": "stream",
          "name": "stdout",
          "text": [
            "(306137, 2)\n",
            "(17000, 2)\n"
          ]
        }
      ]
    },
    {
      "cell_type": "code",
      "source": [
        "vl_conta_age['Fx_Tempo_Conta'].value_counts()"
      ],
      "metadata": {
        "colab": {
          "base_uri": "https://localhost:8080/",
          "height": 272
        },
        "id": "sS7Q9DtGVgyT",
        "outputId": "715b6d3f-4360-4b54-c7fa-0a7ec8a2b5ba"
      },
      "execution_count": null,
      "outputs": [
        {
          "output_type": "execute_result",
          "data": {
            "text/plain": [
              "Fx_Tempo_Conta\n",
              "Entre 6 e 8     8966\n",
              "Entre 9 e 10    6692\n",
              "Acima de 10     1342\n",
              "Até 1              0\n",
              "Entre 1 e 5        0\n",
              "Name: count, dtype: int64"
            ],
            "text/html": [
              "<div>\n",
              "<style scoped>\n",
              "    .dataframe tbody tr th:only-of-type {\n",
              "        vertical-align: middle;\n",
              "    }\n",
              "\n",
              "    .dataframe tbody tr th {\n",
              "        vertical-align: top;\n",
              "    }\n",
              "\n",
              "    .dataframe thead th {\n",
              "        text-align: right;\n",
              "    }\n",
              "</style>\n",
              "<table border=\"1\" class=\"dataframe\">\n",
              "  <thead>\n",
              "    <tr style=\"text-align: right;\">\n",
              "      <th></th>\n",
              "      <th>count</th>\n",
              "    </tr>\n",
              "    <tr>\n",
              "      <th>Fx_Tempo_Conta</th>\n",
              "      <th></th>\n",
              "    </tr>\n",
              "  </thead>\n",
              "  <tbody>\n",
              "    <tr>\n",
              "      <th>Entre 6 e 8</th>\n",
              "      <td>8966</td>\n",
              "    </tr>\n",
              "    <tr>\n",
              "      <th>Entre 9 e 10</th>\n",
              "      <td>6692</td>\n",
              "    </tr>\n",
              "    <tr>\n",
              "      <th>Acima de 10</th>\n",
              "      <td>1342</td>\n",
              "    </tr>\n",
              "    <tr>\n",
              "      <th>Até 1</th>\n",
              "      <td>0</td>\n",
              "    </tr>\n",
              "    <tr>\n",
              "      <th>Entre 1 e 5</th>\n",
              "      <td>0</td>\n",
              "    </tr>\n",
              "  </tbody>\n",
              "</table>\n",
              "</div><br><label><b>dtype:</b> int64</label>"
            ]
          },
          "metadata": {},
          "execution_count": 25
        }
      ]
    },
    {
      "cell_type": "code",
      "source": [
        "plt.subplot(1, 1, 1)\n",
        "df['account_age'].hist(grid = False, bins = 8)\n",
        "\n",
        "plt.subplot(1, 1, 1)\n",
        "df_target['account_age'].hist(grid = False, bins = 8)"
      ],
      "metadata": {
        "id": "F4YHNQAhbFrD",
        "colab": {
          "base_uri": "https://localhost:8080/",
          "height": 448
        },
        "outputId": "c6940579-c0d4-4633-ac96-8f4279187fde"
      },
      "execution_count": null,
      "outputs": [
        {
          "output_type": "execute_result",
          "data": {
            "text/plain": [
              "<Axes: >"
            ]
          },
          "metadata": {},
          "execution_count": 26
        },
        {
          "output_type": "display_data",
          "data": {
            "text/plain": [
              "<Figure size 640x480 with 1 Axes>"
            ],
            "image/png": "[encoded data removed]"
          },
          "metadata": {}
        }
      ]
    },
    {
      "cell_type": "markdown",
      "source": [
        "***O grafico acima mostra a diferença de tempo de conta de quem aderiu a campanha (laranja) e o tempo de conta de todos os cliente (azul).**\n",
        "\n"
      ],
      "metadata": {
        "id": "HMtl6eTMi7si"
      }
    },
    {
      "cell_type": "markdown",
      "source": [
        "### Limite de Credito"
      ],
      "metadata": {
        "id": "wXuIn4TzXiuF"
      }
    },
    {
      "cell_type": "code",
      "source": [
        "conditions_credito = [\n",
        "    (df['credit_card_limit'] <= 5000),\n",
        "    (df['credit_card_limit'] > 5000) & (df['credit_card_limit'] <= 15000),\n",
        "    (df['credit_card_limit'] > 15000) & (df['credit_card_limit'] <= 40000),\n",
        "    (df['credit_card_limit'] > 40000) & (df['credit_card_limit'] <= 80000),\n",
        "    (df['credit_card_limit'] > 80000) & (df['credit_card_limit'] <= 100000),\n",
        "    (df['credit_card_limit'] > 100000)\n",
        "    ]\n",
        "values_credito = ['Até 5000',  'Entre 5k e 15k','Entre 15k e 40k','Entre 40k e 80k','Entre 80k e 100k', 'Acima de 100k']\n",
        "df['Fx_Limite'] = np.select(\n",
        "    conditions_credito,\n",
        "    values_credito,\n",
        "    default='Não informado'  # ← tipo str, igual aos outros valores\n",
        ")\n"
      ],
      "metadata": {
        "id": "YFTDBWHJXh-s"
      },
      "execution_count": null,
      "outputs": []
    },
    {
      "cell_type": "code",
      "source": [
        "vl_credito = df[['account_id','Fx_Limite']]\n",
        "print(vl_credito.shape)\n",
        "vl_credito = vl_credito.drop_duplicates()\n",
        "print(vl_credito.shape)"
      ],
      "metadata": {
        "colab": {
          "base_uri": "https://localhost:8080/"
        },
        "id": "3s42kHhTZEqN",
        "outputId": "a86c9a82-90b1-43dc-ccb7-d1548a5e03b0"
      },
      "execution_count": null,
      "outputs": [
        {
          "output_type": "stream",
          "name": "stdout",
          "text": [
            "(306137, 2)\n",
            "(17000, 2)\n"
          ]
        }
      ]
    },
    {
      "cell_type": "code",
      "source": [
        "# Faixas de Limite de Credito\n",
        "vl_credito['Fx_Limite'].value_counts()"
      ],
      "metadata": {
        "colab": {
          "base_uri": "https://localhost:8080/",
          "height": 272
        },
        "id": "JNLxn_GcZPbN",
        "outputId": "c0c75e8f-9e0f-4d83-b33f-83bed616a084"
      },
      "execution_count": null,
      "outputs": [
        {
          "output_type": "execute_result",
          "data": {
            "text/plain": [
              "Fx_Limite\n",
              "Entre 40k e 80k     9125\n",
              "Entre 80k e 100k    2559\n",
              "Não informado       2175\n",
              "Entre 15k e 40k     2135\n",
              "Acima de 100k       1006\n",
              "Name: count, dtype: int64"
            ],
            "text/html": [
              "<div>\n",
              "<style scoped>\n",
              "    .dataframe tbody tr th:only-of-type {\n",
              "        vertical-align: middle;\n",
              "    }\n",
              "\n",
              "    .dataframe tbody tr th {\n",
              "        vertical-align: top;\n",
              "    }\n",
              "\n",
              "    .dataframe thead th {\n",
              "        text-align: right;\n",
              "    }\n",
              "</style>\n",
              "<table border=\"1\" class=\"dataframe\">\n",
              "  <thead>\n",
              "    <tr style=\"text-align: right;\">\n",
              "      <th></th>\n",
              "      <th>count</th>\n",
              "    </tr>\n",
              "    <tr>\n",
              "      <th>Fx_Limite</th>\n",
              "      <th></th>\n",
              "    </tr>\n",
              "  </thead>\n",
              "  <tbody>\n",
              "    <tr>\n",
              "      <th>Entre 40k e 80k</th>\n",
              "      <td>9125</td>\n",
              "    </tr>\n",
              "    <tr>\n",
              "      <th>Entre 80k e 100k</th>\n",
              "      <td>2559</td>\n",
              "    </tr>\n",
              "    <tr>\n",
              "      <th>Não informado</th>\n",
              "      <td>2175</td>\n",
              "    </tr>\n",
              "    <tr>\n",
              "      <th>Entre 15k e 40k</th>\n",
              "      <td>2135</td>\n",
              "    </tr>\n",
              "    <tr>\n",
              "      <th>Acima de 100k</th>\n",
              "      <td>1006</td>\n",
              "    </tr>\n",
              "  </tbody>\n",
              "</table>\n",
              "</div><br><label><b>dtype:</b> int64</label>"
            ]
          },
          "metadata": {},
          "execution_count": 29
        }
      ]
    },
    {
      "cell_type": "code",
      "source": [
        "  profile.credit_card_limit.hist(figsize=(7, 5), grid  = False)"
      ],
      "metadata": {
        "colab": {
          "base_uri": "https://localhost:8080/",
          "height": 463
        },
        "id": "25gQ4tFJXRVd",
        "outputId": "088cf27c-509d-48fd-81e2-53e410beec38"
      },
      "execution_count": null,
      "outputs": [
        {
          "output_type": "execute_result",
          "data": {
            "text/plain": [
              "<Axes: >"
            ]
          },
          "metadata": {},
          "execution_count": 30
        },
        {
          "output_type": "display_data",
          "data": {
            "text/plain": [
              "<Figure size 700x500 with 1 Axes>"
            ],
            "image/png": "[encoded data removed]"
          },
          "metadata": {}
        }
      ]
    },
    {
      "cell_type": "markdown",
      "source": [
        "### Indicadores de adesão as ofertas"
      ],
      "metadata": {
        "id": "LN0p5CstdviG"
      }
    },
    {
      "cell_type": "code",
      "source": [
        "# Gerar contadores de transações por cliente e oferta\n",
        "indicadores = df[['account_id', 'profile_id', 'offer_id_pk','event']]\n",
        "indicadores['n_transaction'] = (indicadores['event'] == 'transaction').astype(int)\n",
        "indicadores['n_offer_received'] = (indicadores['event'] == 'offer received').astype(int)\n",
        "indicadores['n_offer_viewed'] = (indicadores['event'] == 'offer viewed').astype(int)\n",
        "indicadores['n_offer_completed'] = (indicadores['event'] == 'offer completed').astype(int)\n",
        "\n",
        "# Agrupar eventos por Cliente e Oferta\n",
        "df_indicadores = indicadores.groupby(['account_id', 'offer_id_pk']).agg({\n",
        "    'n_offer_received': 'sum',\n",
        "    'n_offer_viewed': 'sum',\n",
        "    'n_offer_completed': 'sum'\n",
        "}).reset_index()\n",
        "\n",
        "df_ind_interesse = df_indicadores[df_indicadores['n_offer_completed'] >0]"
      ],
      "metadata": {
        "id": "iRFIGU9fkqDC",
        "colab": {
          "base_uri": "https://localhost:8080/"
        },
        "outputId": "a3290aed-c311-4f10-bc7f-17bcd88c73f3"
      },
      "execution_count": null,
      "outputs": [
        {
          "output_type": "stream",
          "name": "stderr",
          "text": [
            "/tmp/ipython-input-31-3513913758.py:3: SettingWithCopyWarning: \n",
            "A value is trying to be set on a copy of a slice from a DataFrame.\n",
            "Try using .loc[row_indexer,col_indexer] = value instead\n",
            "\n",
            "See the caveats in the documentation: https://pandas.pydata.org/pandas-docs/stable/user_guide/indexing.html#returning-a-view-versus-a-copy\n",
            "  indicadores['n_transaction'] = (indicadores['event'] == 'transaction').astype(int)\n",
            "/tmp/ipython-input-31-3513913758.py:4: SettingWithCopyWarning: \n",
            "A value is trying to be set on a copy of a slice from a DataFrame.\n",
            "Try using .loc[row_indexer,col_indexer] = value instead\n",
            "\n",
            "See the caveats in the documentation: https://pandas.pydata.org/pandas-docs/stable/user_guide/indexing.html#returning-a-view-versus-a-copy\n",
            "  indicadores['n_offer_received'] = (indicadores['event'] == 'offer received').astype(int)\n",
            "/tmp/ipython-input-31-3513913758.py:5: SettingWithCopyWarning: \n",
            "A value is trying to be set on a copy of a slice from a DataFrame.\n",
            "Try using .loc[row_indexer,col_indexer] = value instead\n",
            "\n",
            "See the caveats in the documentation: https://pandas.pydata.org/pandas-docs/stable/user_guide/indexing.html#returning-a-view-versus-a-copy\n",
            "  indicadores['n_offer_viewed'] = (indicadores['event'] == 'offer viewed').astype(int)\n",
            "/tmp/ipython-input-31-3513913758.py:6: SettingWithCopyWarning: \n",
            "A value is trying to be set on a copy of a slice from a DataFrame.\n",
            "Try using .loc[row_indexer,col_indexer] = value instead\n",
            "\n",
            "See the caveats in the documentation: https://pandas.pydata.org/pandas-docs/stable/user_guide/indexing.html#returning-a-view-versus-a-copy\n",
            "  indicadores['n_offer_completed'] = (indicadores['event'] == 'offer completed').astype(int)\n"
          ]
        }
      ]
    },
    {
      "cell_type": "markdown",
      "source": [
        "### Numero de ofertas recebidas por cada cliente\n",
        "\n",
        "*   Numero de ofertas recebidas por cada cliente aderiu a oferta (laranja)\n",
        "*   Numero de ofertas recebidas por cada cliente em todos os casos(azul)\n"
      ],
      "metadata": {
        "id": "jSTBH4sNmmBb"
      }
    },
    {
      "cell_type": "code",
      "source": [
        "plt.subplot(1, 1, 1)\n",
        "df_indicadores['n_offer_received'].hist(grid = False, bins = 5)\n",
        "\n",
        "plt.subplot(1, 1, 1)\n",
        "df_ind_interesse['n_offer_received'].hist(grid = False, bins = 5)"
      ],
      "metadata": {
        "id": "X-kfBLzwmFgL",
        "colab": {
          "base_uri": "https://localhost:8080/",
          "height": 448
        },
        "outputId": "cd9bd163-7b5a-42a4-d049-280df0ac1c94"
      },
      "execution_count": null,
      "outputs": [
        {
          "output_type": "execute_result",
          "data": {
            "text/plain": [
              "<Axes: >"
            ]
          },
          "metadata": {},
          "execution_count": 32
        },
        {
          "output_type": "display_data",
          "data": {
            "text/plain": [
              "<Figure size 640x480 with 1 Axes>"
            ],
            "image/png": "[encoded data removed]"
          },
          "metadata": {}
        }
      ]
    },
    {
      "cell_type": "markdown",
      "source": [
        "### Numero de ofertas visualizadas por cada cliente\n",
        "\n",
        "*   Numero de ofertas visualizadas por cada cliente aderiu a oferta (laranja)\n",
        "*   Numero de ofertas visualizadas por cada cliente em todos os casos(azul)"
      ],
      "metadata": {
        "id": "PWDi8p-xnDhq"
      }
    },
    {
      "cell_type": "code",
      "source": [
        "plt.subplot(1, 1, 1)\n",
        "df_indicadores['n_offer_viewed'].hist(grid = False, bins = 5)\n",
        "\n",
        "plt.subplot(1, 1, 1)\n",
        "df_ind_interesse['n_offer_viewed'].hist(grid = False, bins = 5)"
      ],
      "metadata": {
        "id": "5BtWg7Zom9RD",
        "colab": {
          "base_uri": "https://localhost:8080/",
          "height": 448
        },
        "outputId": "7ed12dca-cee8-46eb-aaff-94f67843ca4f"
      },
      "execution_count": null,
      "outputs": [
        {
          "output_type": "execute_result",
          "data": {
            "text/plain": [
              "<Axes: >"
            ]
          },
          "metadata": {},
          "execution_count": 33
        },
        {
          "output_type": "display_data",
          "data": {
            "text/plain": [
              "<Figure size 640x480 with 1 Axes>"
            ],
            "image/png": "[encoded data removed]"
          },
          "metadata": {}
        }
      ]
    },
    {
      "cell_type": "markdown",
      "source": [
        "### Taxa de Adesão e visualização\n",
        "- Taxa de visualização (laranja)\n",
        "- Taxa de Adesão(azul)"
      ],
      "metadata": {
        "id": "-rLZajo_twyD"
      }
    },
    {
      "cell_type": "code",
      "source": [
        "# Criar variaveis de Taxas de adesao as ofertas.\n",
        "# Taxa de visualização, cliente recebeu a oferta e visualizou\n",
        "df_indicadores['tx_visualizacao'] = df_indicadores['n_offer_viewed'] / df_indicadores['n_offer_received']\n",
        "# Taxa de Adesao, cliente que viu a oferta e aderiu\n",
        "df_indicadores['tx_adesao'] = df_indicadores['n_offer_completed'] / df_indicadores['n_offer_viewed']"
      ],
      "metadata": {
        "id": "0VpuN8b0uF9M"
      },
      "execution_count": null,
      "outputs": []
    },
    {
      "cell_type": "code",
      "source": [
        "plt.figure(figsize=(8, 5))\n",
        "plt.scatter(df_indicadores['tx_visualizacao'], df_indicadores['tx_visualizacao'], s=100, alpha=0.8,color='orange' )\n",
        "plt.scatter(df_indicadores['tx_adesao'], df_indicadores['tx_adesao'], s=100, alpha=0.9, color='blue' )\n",
        "\n",
        "# Estética\n",
        "plt.title('Taxa de Visualização vs. Taxa de Adesão')\n",
        "plt.grid(True, linestyle='--', alpha=0.5)\n",
        "plt.xlim(0, 1)\n",
        "plt.ylim(0, 1)\n",
        "plt.tight_layout()\n",
        "plt.show()"
      ],
      "metadata": {
        "id": "9dYfdoTTsPMT",
        "colab": {
          "base_uri": "https://localhost:8080/",
          "height": 507
        },
        "outputId": "4247e8e6-02d3-44ef-cba4-266dba86e11b"
      },
      "execution_count": null,
      "outputs": [
        {
          "output_type": "display_data",
          "data": {
            "text/plain": [
              "<Figure size 800x500 with 1 Axes>"
            ],
            "image/png": "[encoded data removed]"
          },
          "metadata": {}
        }
      ]
    },
    {
      "cell_type": "markdown",
      "source": [
        "### Canal Principal por cliente"
      ],
      "metadata": {
        "id": "LsmkIBHPcZyM"
      }
    },
    {
      "cell_type": "code",
      "source": [
        "# Filtrar visualizações de ofertas\n",
        "df_viewed = df[df['event'] == 'offer viewed'][['account_id', 'offer_id_pk']]\n",
        "# Explodir canais (um canal por linha)\n",
        "df_canais = offers[['offer_id', 'channels']].explode('channels').rename(columns={'offer_id': 'offer_id', 'channels': 'canal'})\n",
        "# Juntar visualizações com canais\n",
        "df_view_canal = df_viewed.merge(df_canais, how='left', left_on='offer_id_pk', right_on='offer_id')\n",
        "# Contar visualizações por canal por cliente\n",
        "df_contagem = df_view_canal.groupby(['account_id', 'canal']).size().reset_index(name='n_views')\n",
        "# Canal mais visualizado\n",
        "df_canal_preferido = df_contagem.sort_values('n_views', ascending=False)\\\n",
        "                                .drop_duplicates('account_id')\\\n",
        "                                .rename(columns={'canal': 'canal_preferido'})[['account_id', 'canal_preferido']]\n",
        "\n"
      ],
      "metadata": {
        "id": "7OW7YEYPuvas"
      },
      "execution_count": null,
      "outputs": []
    },
    {
      "cell_type": "code",
      "source": [
        "df_agrupado = df_contagem.groupby('canal').agg(\n",
        "    contas_unicas=('account_id', 'nunique'),\n",
        "    total_views=('n_views', 'sum')\n",
        ").reset_index()"
      ],
      "metadata": {
        "id": "0ZQHCufVx3PA"
      },
      "execution_count": null,
      "outputs": []
    },
    {
      "cell_type": "markdown",
      "source": [
        "### Qtd de Clientes que acessaram cada Canal"
      ],
      "metadata": {
        "id": "cx23cy_jyTrt"
      }
    },
    {
      "cell_type": "code",
      "source": [
        "# Dados\n",
        "canais = df_agrupado['canal']\n",
        "contas = df_agrupado['contas_unicas']\n",
        "views = df_agrupado['total_views']\n",
        "x = np.arange(len(canais))\n",
        "\n",
        "plt.figure(figsize=(10, 6))\n",
        "\n",
        "# Barras para contas únicas\n",
        "plt.bar(x, contas, width=0.4, label='Clientes', color='skyblue')\n",
        "\n",
        "# Linha para total de visualizações\n",
        "plt.plot(x, views, marker='o', color='orange', linewidth=2, label='Total de visualizações')\n",
        "\n",
        "# Eixos e rótulos\n",
        "plt.xticks(x, canais)\n",
        "plt.ylabel('Quantidade')\n",
        "plt.title('Visualizações e Clientes por Canal')\n",
        "plt.legend()\n",
        "plt.grid(True, axis='y', linestyle='--', alpha=0.4)\n",
        "plt.tight_layout()\n",
        "plt.show()"
      ],
      "metadata": {
        "id": "Xm6_eQanyoR9",
        "colab": {
          "base_uri": "https://localhost:8080/",
          "height": 607
        },
        "outputId": "e7b0b2c3-ff85-4ae1-fcff-4a3e31da3df8"
      },
      "execution_count": null,
      "outputs": [
        {
          "output_type": "display_data",
          "data": {
            "text/plain": [
              "<Figure size 1000x600 with 1 Axes>"
            ],
            "image/png": "[encoded data removed]"
          },
          "metadata": {}
        }
      ]
    },
    {
      "cell_type": "markdown",
      "source": [
        "### Canal Preferido dos Clientes"
      ],
      "metadata": {
        "id": "8ZyIFHxDz8Jt"
      }
    },
    {
      "cell_type": "code",
      "source": [
        "df_canal_preferido['canal_preferido'].value_counts()"
      ],
      "metadata": {
        "colab": {
          "base_uri": "https://localhost:8080/",
          "height": 240
        },
        "id": "CiKv2cEVWje0",
        "outputId": "b4a13c29-90b1-4c89-c3ea-14820a1153fd"
      },
      "execution_count": null,
      "outputs": [
        {
          "output_type": "execute_result",
          "data": {
            "text/plain": [
              "canal_preferido\n",
              "email     6431\n",
              "web       4154\n",
              "mobile    3492\n",
              "social    2757\n",
              "Name: count, dtype: int64"
            ],
            "text/html": [
              "<div>\n",
              "<style scoped>\n",
              "    .dataframe tbody tr th:only-of-type {\n",
              "        vertical-align: middle;\n",
              "    }\n",
              "\n",
              "    .dataframe tbody tr th {\n",
              "        vertical-align: top;\n",
              "    }\n",
              "\n",
              "    .dataframe thead th {\n",
              "        text-align: right;\n",
              "    }\n",
              "</style>\n",
              "<table border=\"1\" class=\"dataframe\">\n",
              "  <thead>\n",
              "    <tr style=\"text-align: right;\">\n",
              "      <th></th>\n",
              "      <th>count</th>\n",
              "    </tr>\n",
              "    <tr>\n",
              "      <th>canal_preferido</th>\n",
              "      <th></th>\n",
              "    </tr>\n",
              "  </thead>\n",
              "  <tbody>\n",
              "    <tr>\n",
              "      <th>email</th>\n",
              "      <td>6431</td>\n",
              "    </tr>\n",
              "    <tr>\n",
              "      <th>web</th>\n",
              "      <td>4154</td>\n",
              "    </tr>\n",
              "    <tr>\n",
              "      <th>mobile</th>\n",
              "      <td>3492</td>\n",
              "    </tr>\n",
              "    <tr>\n",
              "      <th>social</th>\n",
              "      <td>2757</td>\n",
              "    </tr>\n",
              "  </tbody>\n",
              "</table>\n",
              "</div><br><label><b>dtype:</b> int64</label>"
            ]
          },
          "metadata": {},
          "execution_count": 39
        }
      ]
    },
    {
      "cell_type": "code",
      "source": [
        "df_canal_preferido['canal_preferido'].value_counts().plot(kind='bar', figsize=(7, 5), color=['#2e5eb8', '#fa9c8c', '#39824b'])\n",
        "plt.xticks(rotation=0)\n",
        "plt.title('Canal Preferido por Qtd de Clientes')\n",
        "plt.ylabel('Qtd Clientes')\n",
        "plt.xlabel('Canal Preferido')"
      ],
      "metadata": {
        "id": "eN2tvZBGyAKe",
        "colab": {
          "base_uri": "https://localhost:8080/",
          "height": 505
        },
        "outputId": "39e11a65-8c52-4779-b0bc-52bcfcb1a598"
      },
      "execution_count": null,
      "outputs": [
        {
          "output_type": "execute_result",
          "data": {
            "text/plain": [
              "Text(0.5, 0, 'Canal Preferido')"
            ]
          },
          "metadata": {},
          "execution_count": 40
        },
        {
          "output_type": "display_data",
          "data": {
            "text/plain": [
              "<Figure size 700x500 with 1 Axes>"
            ],
            "image/png": "[encoded data removed]"
          },
          "metadata": {}
        }
      ]
    },
    {
      "cell_type": "markdown",
      "source": [
        "## Quantidade de Eventos"
      ],
      "metadata": {
        "id": "LmNBJDq9dhaF"
      }
    },
    {
      "cell_type": "code",
      "source": [
        "df['event'].value_counts().plot(kind='bar', figsize=(7, 5), color=['#2e5eb8', '#fa9c8c', '#39824b', '#6d96e8'])\n",
        "plt.title('Offers Status')\n",
        "plt.xlabel('Offers Status')\n",
        "plt.xticks(rotation=0)\n",
        "plt.ylabel('Frequency')\n",
        "plt.tight_layout()"
      ],
      "metadata": {
        "id": "Le8aIFu9Pfzc",
        "colab": {
          "base_uri": "https://localhost:8080/",
          "height": 507
        },
        "outputId": "253c4f14-78fc-445a-ae2f-81c9e2ddefeb"
      },
      "execution_count": null,
      "outputs": [
        {
          "output_type": "display_data",
          "data": {
            "text/plain": [
              "<Figure size 700x500 with 1 Axes>"
            ],
            "image/png": "[encoded data removed]"
          },
          "metadata": {}
        }
      ]
    },
    {
      "cell_type": "markdown",
      "source": [
        "## Distribuição do valor gasto"
      ],
      "metadata": {
        "id": "IrDR8Dg4elWB"
      }
    },
    {
      "cell_type": "code",
      "source": [
        "df.amount.hist(figsize=(7, 5), grid  = False, bins = 3)"
      ],
      "metadata": {
        "id": "qqKHKX-8wCbe",
        "colab": {
          "base_uri": "https://localhost:8080/",
          "height": 463
        },
        "outputId": "f18b74ca-f661-438f-9b59-1093798674f0"
      },
      "execution_count": null,
      "outputs": [
        {
          "output_type": "execute_result",
          "data": {
            "text/plain": [
              "<Axes: >"
            ]
          },
          "metadata": {},
          "execution_count": 42
        },
        {
          "output_type": "display_data",
          "data": {
            "text/plain": [
              "<Figure size 700x500 with 1 Axes>"
            ],
            "image/png": "[encoded data removed]"
          },
          "metadata": {}
        }
      ]
    },
    {
      "cell_type": "markdown",
      "source": [
        "## Distribuição do valor de desconto"
      ],
      "metadata": {
        "id": "Irj_ioEWZ4ur"
      }
    },
    {
      "cell_type": "code",
      "source": [
        "df.reward.hist(figsize=(7, 5), grid  = False)"
      ],
      "metadata": {
        "id": "BiEw1-xbw3uP",
        "colab": {
          "base_uri": "https://localhost:8080/",
          "height": 463
        },
        "outputId": "ec7d68a3-f6cc-4f48-b012-93c5fc9c9c93"
      },
      "execution_count": null,
      "outputs": [
        {
          "output_type": "execute_result",
          "data": {
            "text/plain": [
              "<Axes: >"
            ]
          },
          "metadata": {},
          "execution_count": 43
        },
        {
          "output_type": "display_data",
          "data": {
            "text/plain": [
              "<Figure size 700x500 with 1 Axes>"
            ],
            "image/png": "[encoded data removed]"
          },
          "metadata": {}
        }
      ]
    },
    {
      "cell_type": "markdown",
      "source": [
        "## Distribuição de transações por genero"
      ],
      "metadata": {
        "id": "jLAv7i_eaK1j"
      }
    },
    {
      "cell_type": "code",
      "source": [
        "#Perfil dos clientes por Genero\n",
        "df['gender'].value_counts().plot(kind='bar', figsize=(7, 5), color=['#2e5eb8', '#fa9c8c', '#39824b'])"
      ],
      "metadata": {
        "id": "KpalFLcMPf_A",
        "colab": {
          "base_uri": "https://localhost:8080/",
          "height": 481
        },
        "outputId": "a77333d3-b270-4e97-cd7a-57c4efb138a2"
      },
      "execution_count": null,
      "outputs": [
        {
          "output_type": "execute_result",
          "data": {
            "text/plain": [
              "<Axes: xlabel='gender'>"
            ]
          },
          "metadata": {},
          "execution_count": 44
        },
        {
          "output_type": "display_data",
          "data": {
            "text/plain": [
              "<Figure size 700x500 with 1 Axes>"
            ],
            "image/png": "[encoded data removed]"
          },
          "metadata": {}
        }
      ]
    },
    {
      "cell_type": "markdown",
      "source": [
        "## Distribuição por Idade"
      ],
      "metadata": {
        "id": "19NDosWdaYPF"
      }
    },
    {
      "cell_type": "code",
      "source": [
        "#Perfil dos clientes por Idade\n",
        "df['age'].hist(figsize=(7, 5), grid  = False)"
      ],
      "metadata": {
        "id": "m_zea2pgPgC4",
        "colab": {
          "base_uri": "https://localhost:8080/",
          "height": 463
        },
        "outputId": "0432dd21-ad8a-4951-895a-1fa0a670ad3a"
      },
      "execution_count": null,
      "outputs": [
        {
          "output_type": "execute_result",
          "data": {
            "text/plain": [
              "<Axes: >"
            ]
          },
          "metadata": {},
          "execution_count": 45
        },
        {
          "output_type": "display_data",
          "data": {
            "text/plain": [
              "<Figure size 700x500 with 1 Axes>"
            ],
            "image/png": "[encoded data removed]"
          },
          "metadata": {}
        }
      ]
    },
    {
      "cell_type": "markdown",
      "source": [
        "## Tipos de Oferta"
      ],
      "metadata": {
        "id": "y3ZSbICYbXfb"
      }
    },
    {
      "cell_type": "code",
      "source": [
        "#Tipos de Oferta\n",
        "df['offer_type'].value_counts().plot(kind='bar', figsize=(7, 5), color=['#2e5eb8', '#fa9c8c', '#39824b'])\n",
        "plt.xticks(rotation=0)"
      ],
      "metadata": {
        "id": "0bT53M9PRU2z",
        "colab": {
          "base_uri": "https://localhost:8080/",
          "height": 501
        },
        "outputId": "8b5525dc-d145-4e3a-a5e5-50a72de9d4d0"
      },
      "execution_count": null,
      "outputs": [
        {
          "output_type": "execute_result",
          "data": {
            "text/plain": [
              "(array([0, 1, 2]),\n",
              " [Text(0, 0, 'bogo'), Text(1, 0, 'discount'), Text(2, 0, 'informational')])"
            ]
          },
          "metadata": {},
          "execution_count": 46
        },
        {
          "output_type": "display_data",
          "data": {
            "text/plain": [
              "<Figure size 700x500 with 1 Axes>"
            ],
            "image/png": "[encoded data removed]"
          },
          "metadata": {}
        }
      ]
    },
    {
      "cell_type": "markdown",
      "source": [
        "## Tempo Máximo desde o inicio de teste"
      ],
      "metadata": {
        "id": "rER-85j5x6d_"
      }
    },
    {
      "cell_type": "code",
      "source": [
        "df.time_since_test_start.hist(figsize=(7, 5), grid  = False)"
      ],
      "metadata": {
        "id": "s1VWD23WxSx_",
        "colab": {
          "base_uri": "https://localhost:8080/",
          "height": 463
        },
        "outputId": "f9887534-c318-4526-e838-abccd1c0682c"
      },
      "execution_count": null,
      "outputs": [
        {
          "output_type": "execute_result",
          "data": {
            "text/plain": [
              "<Axes: >"
            ]
          },
          "metadata": {},
          "execution_count": 47
        },
        {
          "output_type": "display_data",
          "data": {
            "text/plain": [
              "<Figure size 700x500 with 1 Axes>"
            ],
            "image/png": "[encoded data removed]"
          },
          "metadata": {}
        }
      ]
    },
    {
      "cell_type": "markdown",
      "source": [
        "## Qtd de Clientes que aderiram a oferta"
      ],
      "metadata": {
        "id": "e3oXpTzwcxxc"
      }
    },
    {
      "cell_type": "code",
      "source": [
        "clientes_receberam_oferta = df_indicadores[df_indicadores['n_offer_received']==1]\n",
        "clientes_visualizaram_oferta = df_indicadores[df_indicadores['n_offer_viewed']==1]\n",
        "clientes_oferta = df_indicadores[df_indicadores['n_offer_completed']==1]\n",
        "\n",
        "transacoes_receberam_oferta = df_indicadores[df_indicadores['n_offer_received']==1]\n",
        "transacoes_visualizaram_oferta = df_indicadores[df_indicadores['n_offer_viewed']==1]\n",
        "transacoes_oferta = df_indicadores[df_indicadores['n_offer_completed']==1]\n"
      ],
      "metadata": {
        "id": "tdrPIbAg0dpd"
      },
      "execution_count": null,
      "outputs": []
    },
    {
      "cell_type": "code",
      "source": [
        "print(\"Qtd de Clientes\", len(df_indicadores['account_id'].unique()))\n",
        "print(\"Qtd de Clientes que receberam oferta\", len(clientes_receberam_oferta['account_id'].unique()))\n",
        "print(\"Qtd de Clientes que visualizaram a oferta\", len(clientes_visualizaram_oferta['account_id'].unique()))\n",
        "print(\"Qtd de Clientes que aderiram a oferta\", len(clientes_oferta['account_id'].unique()))\n",
        "\n",
        "print(\"Qtd de Transações\", df.shape[0])\n",
        "print(\"Qtd de Transações que receberam oferta\", df[df['event']=='offer received'].shape[0])\n",
        "print(\"Qtd de Transações que visualizaram a oferta\", df[df['event']=='offer viewed'].shape[0])\n",
        "print(\"Qtd de Transações que aderiram a oferta\", df[df['event']=='offer completed'].shape[0])\n",
        "\n",
        "print(\"Percentual de Transações com ofertas Recebidas:\", (df[df['event']=='offer received'].shape[0])/df.shape[0])\n",
        "print(\"Percentual de Transações com ofertas vistas:\", (df[df['event']=='offer viewed'].shape[0])/df.shape[0])\n",
        "print(\"Percentual de Transações com ofertas aceitas:\", (df[df['event']=='offer completed'].shape[0])/df.shape[0])"
      ],
      "metadata": {
        "id": "gPgTiMxE1a2O",
        "colab": {
          "base_uri": "https://localhost:8080/"
        },
        "outputId": "2b82106c-8ebe-4f47-da4f-8d8863ec10a9"
      },
      "execution_count": null,
      "outputs": [
        {
          "output_type": "stream",
          "name": "stdout",
          "text": [
            "Qtd de Clientes 16994\n",
            "Qtd de Clientes que receberam oferta 16659\n",
            "Qtd de Clientes que visualizaram a oferta 16160\n",
            "Qtd de Clientes que aderiram a oferta 12208\n",
            "Qtd de Transações 306137\n",
            "Qtd de Transações que receberam oferta 76277\n",
            "Qtd de Transações que visualizaram a oferta 57725\n",
            "Qtd de Transações que aderiram a oferta 33182\n",
            "Percentual de Transações com ofertas Recebidas: 0.24915968994273804\n",
            "Percentual de Transações com ofertas vistas: 0.1885593704779233\n",
            "Percentual de Transações com ofertas aceitas: 0.10838938122474578\n"
          ]
        }
      ]
    },
    {
      "cell_type": "markdown",
      "source": [
        "### Qual oferta teve mais adesão?"
      ],
      "metadata": {
        "id": "eLBUQTw3d-MU"
      }
    },
    {
      "cell_type": "code",
      "source": [
        "df_indicadores.groupby('offer_id_pk', as_index=False)['n_offer_completed'].sum()"
      ],
      "metadata": {
        "id": "IVyuvQJT4xEO",
        "colab": {
          "base_uri": "https://localhost:8080/",
          "height": 362
        },
        "outputId": "bcf2af0a-8249-4af6-fe86-b08d2390652e"
      },
      "execution_count": null,
      "outputs": [
        {
          "output_type": "execute_result",
          "data": {
            "text/plain": [
              "                        offer_id_pk  n_offer_completed\n",
              "0  0b1e1539f2cc45b7b9fa7c272da2e1d7               3340\n",
              "1  2298d6c36e964ae4a3e7e9706d1fb8c2               5112\n",
              "2  2906b810c7d4411798c6938adc9daaa5               3964\n",
              "3  3f207df678b143eea3cee63160fa8bed                  0\n",
              "4  4d5c57ea9a6940dd891ad53e9dbe8da0               3301\n",
              "5  5a8bc65990b245e5a138643cd4eb9837                  0\n",
              "6  9b98b8c7a33c4b65b9aebfe6a799e6d9               4303\n",
              "7  ae264e3637204a6fb9bb56bc8210ddfd               3635\n",
              "8  f19421c1d4aa40978ebb69ca19b0e20d               4262\n",
              "9  fafdcd668e3743c1bb461111dcafc2a4               5265"
            ],
            "text/html": [
              "\n",
              "  <div id=\"df-90be42fe-ac7f-4ecc-b980-97ed3dfb5e1c\" class=\"colab-df-container\">\n",
              "    <div>\n",
              "<style scoped>\n",
              "    .dataframe tbody tr th:only-of-type {\n",
              "        vertical-align: middle;\n",
              "    }\n",
              "\n",
              "    .dataframe tbody tr th {\n",
              "        vertical-align: top;\n",
              "    }\n",
              "\n",
              "    .dataframe thead th {\n",
              "        text-align: right;\n",
              "    }\n",
              "</style>\n",
              "<table border=\"1\" class=\"dataframe\">\n",
              "  <thead>\n",
              "    <tr style=\"text-align: right;\">\n",
              "      <th></th>\n",
              "      <th>offer_id_pk</th>\n",
              "      <th>n_offer_completed</th>\n",
              "    </tr>\n",
              "  </thead>\n",
              "  <tbody>\n",
              "    <tr>\n",
              "      <th>0</th>\n",
              "      <td>0b1e1539f2cc45b7b9fa7c272da2e1d7</td>\n",
              "      <td>3340</td>\n",
              "    </tr>\n",
              "    <tr>\n",
              "      <th>1</th>\n",
              "      <td>2298d6c36e964ae4a3e7e9706d1fb8c2</td>\n",
              "      <td>5112</td>\n",
              "    </tr>\n",
              "    <tr>\n",
              "      <th>2</th>\n",
              "      <td>2906b810c7d4411798c6938adc9daaa5</td>\n",
              "      <td>3964</td>\n",
              "    </tr>\n",
              "    <tr>\n",
              "      <th>3</th>\n",
              "      <td>3f207df678b143eea3cee63160fa8bed</td>\n",
              "      <td>0</td>\n",
              "    </tr>\n",
              "    <tr>\n",
              "      <th>4</th>\n",
              "      <td>4d5c57ea9a6940dd891ad53e9dbe8da0</td>\n",
              "      <td>3301</td>\n",
              "    </tr>\n",
              "    <tr>\n",
              "      <th>5</th>\n",
              "      <td>5a8bc65990b245e5a138643cd4eb9837</td>\n",
              "      <td>0</td>\n",
              "    </tr>\n",
              "    <tr>\n",
              "      <th>6</th>\n",
              "      <td>9b98b8c7a33c4b65b9aebfe6a799e6d9</td>\n",
              "      <td>4303</td>\n",
              "    </tr>\n",
              "    <tr>\n",
              "      <th>7</th>\n",
              "      <td>ae264e3637204a6fb9bb56bc8210ddfd</td>\n",
              "      <td>3635</td>\n",
              "    </tr>\n",
              "    <tr>\n",
              "      <th>8</th>\n",
              "      <td>f19421c1d4aa40978ebb69ca19b0e20d</td>\n",
              "      <td>4262</td>\n",
              "    </tr>\n",
              "    <tr>\n",
              "      <th>9</th>\n",
              "      <td>fafdcd668e3743c1bb461111dcafc2a4</td>\n",
              "      <td>5265</td>\n",
              "    </tr>\n",
              "  </tbody>\n",
              "</table>\n",
              "</div>\n",
              "    <div class=\"colab-df-buttons\">\n",
              "\n",
              "  <div class=\"colab-df-container\">\n",
              "    <button class=\"colab-df-convert\" onclick=\"convertToInteractive('df-90be42fe-ac7f-4ecc-b980-97ed3dfb5e1c')\"\n",
              "            title=\"Convert this dataframe to an interactive table.\"\n",
              "            style=\"display:none;\">\n",
              "\n",
              "  <svg xmlns=\"http://www.w3.org/2000/svg\" height=\"24px\" viewBox=\"0 -960 960 960\">\n",
              "    <path d=\"M120-120v-720h720v720H120Zm60-500h600v-160H180v160Zm220 220h160v-160H400v160Zm0 220h160v-160H400v160ZM180-400h160v-160H180v160Zm440 0h160v-160H620v160ZM180-180h160v-160H180v160Zm440 0h160v-160H620v160Z\"/>\n",
              "  </svg>\n",
              "    </button>\n",
              "\n",
              "  <style>\n",
              "    .colab-df-container {\n",
              "      display:flex;\n",
              "      gap: 12px;\n",
              "    }\n",
              "\n",
              "    .colab-df-convert {\n",
              "      background-color: #E8F0FE;\n",
              "      border: none;\n",
              "      border-radius: 50%;\n",
              "      cursor: pointer;\n",
              "      display: none;\n",
              "      fill: #1967D2;\n",
              "      height: 32px;\n",
              "      padding: 0 0 0 0;\n",
              "      width: 32px;\n",
              "    }\n",
              "\n",
              "    .colab-df-convert:hover {\n",
              "      background-color: #E2EBFA;\n",
              "      box-shadow: 0px 1px 2px rgba(60, 64, 67, 0.3), 0px 1px 3px 1px rgba(60, 64, 67, 0.15);\n",
              "      fill: #174EA6;\n",
              "    }\n",
              "\n",
              "    .colab-df-buttons div {\n",
              "      margin-bottom: 4px;\n",
              "    }\n",
              "\n",
              "    [theme=dark] .colab-df-convert {\n",
              "      background-color: #3B4455;\n",
              "      fill: #D2E3FC;\n",
              "    }\n",
              "\n",
              "    [theme=dark] .colab-df-convert:hover {\n",
              "      background-color: #434B5C;\n",
              "      box-shadow: 0px 1px 3px 1px rgba(0, 0, 0, 0.15);\n",
              "      filter: drop-shadow(0px 1px 2px rgba(0, 0, 0, 0.3));\n",
              "      fill: #FFFFFF;\n",
              "    }\n",
              "  </style>\n",
              "\n",
              "    <script>\n",
              "      const buttonEl =\n",
              "        document.querySelector('#df-90be42fe-ac7f-4ecc-b980-97ed3dfb5e1c button.colab-df-convert');\n",
              "      buttonEl.style.display =\n",
              "        google.colab.kernel.accessAllowed ? 'block' : 'none';\n",
              "\n",
              "      async function convertToInteractive(key) {\n",
              "        const element = document.querySelector('#df-90be42fe-ac7f-4ecc-b980-97ed3dfb5e1c');\n",
              "        const dataTable =\n",
              "          await google.colab.kernel.invokeFunction('convertToInteractive',\n",
              "                                                    [key], {});\n",
              "        if (!dataTable) return;\n",
              "\n",
              "        const docLinkHtml = 'Like what you see? Visit the ' +\n",
              "          '<a target=\"_blank\" href=https://colab.research.google.com/notebooks/data_table.ipynb>data table notebook</a>'\n",
              "          + ' to learn more about interactive tables.';\n",
              "        element.innerHTML = '';\n",
              "        dataTable['output_type'] = 'display_data';\n",
              "        await google.colab.output.renderOutput(dataTable, element);\n",
              "        const docLink = document.createElement('div');\n",
              "        docLink.innerHTML = docLinkHtml;\n",
              "        element.appendChild(docLink);\n",
              "      }\n",
              "    </script>\n",
              "  </div>\n",
              "\n",
              "\n",
              "    <div id=\"df-00da1bad-b660-4ea7-81d9-13802c5121cf\">\n",
              "      <button class=\"colab-df-quickchart\" onclick=\"quickchart('df-00da1bad-b660-4ea7-81d9-13802c5121cf')\"\n",
              "                title=\"Suggest charts\"\n",
              "                style=\"display:none;\">\n",
              "\n",
              "<svg xmlns=\"http://www.w3.org/2000/svg\" height=\"24px\"viewBox=\"0 0 24 24\"\n",
              "     width=\"24px\">\n",
              "    <g>\n",
              "        <path d=\"M19 3H5c-1.1 0-2 .9-2 2v14c0 1.1.9 2 2 2h14c1.1 0 2-.9 2-2V5c0-1.1-.9-2-2-2zM9 17H7v-7h2v7zm4 0h-2V7h2v10zm4 0h-2v-4h2v4z\"/>\n",
              "    </g>\n",
              "</svg>\n",
              "      </button>\n",
              "\n",
              "<style>\n",
              "  .colab-df-quickchart {\n",
              "      --bg-color: #E8F0FE;\n",
              "      --fill-color: #1967D2;\n",
              "      --hover-bg-color: #E2EBFA;\n",
              "      --hover-fill-color: #174EA6;\n",
              "      --disabled-fill-color: #AAA;\n",
              "      --disabled-bg-color: #DDD;\n",
              "  }\n",
              "\n",
              "  [theme=dark] .colab-df-quickchart {\n",
              "      --bg-color: #3B4455;\n",
              "      --fill-color: #D2E3FC;\n",
              "      --hover-bg-color: #434B5C;\n",
              "      --hover-fill-color: #FFFFFF;\n",
              "      --disabled-bg-color: #3B4455;\n",
              "      --disabled-fill-color: #666;\n",
              "  }\n",
              "\n",
              "  .colab-df-quickchart {\n",
              "    background-color: var(--bg-color);\n",
              "    border: none;\n",
              "    border-radius: 50%;\n",
              "    cursor: pointer;\n",
              "    display: none;\n",
              "    fill: var(--fill-color);\n",
              "    height: 32px;\n",
              "    padding: 0;\n",
              "    width: 32px;\n",
              "  }\n",
              "\n",
              "  .colab-df-quickchart:hover {\n",
              "    background-color: var(--hover-bg-color);\n",
              "    box-shadow: 0 1px 2px rgba(60, 64, 67, 0.3), 0 1px 3px 1px rgba(60, 64, 67, 0.15);\n",
              "    fill: var(--button-hover-fill-color);\n",
              "  }\n",
              "\n",
              "  .colab-df-quickchart-complete:disabled,\n",
              "  .colab-df-quickchart-complete:disabled:hover {\n",
              "    background-color: var(--disabled-bg-color);\n",
              "    fill: var(--disabled-fill-color);\n",
              "    box-shadow: none;\n",
              "  }\n",
              "\n",
              "  .colab-df-spinner {\n",
              "    border: 2px solid var(--fill-color);\n",
              "    border-color: transparent;\n",
              "    border-bottom-color: var(--fill-color);\n",
              "    animation:\n",
              "      spin 1s steps(1) infinite;\n",
              "  }\n",
              "\n",
              "  @keyframes spin {\n",
              "    0% {\n",
              "      border-color: transparent;\n",
              "      border-bottom-color: var(--fill-color);\n",
              "      border-left-color: var(--fill-color);\n",
              "    }\n",
              "    20% {\n",
              "      border-color: transparent;\n",
              "      border-left-color: var(--fill-color);\n",
              "      border-top-color: var(--fill-color);\n",
              "    }\n",
              "    30% {\n",
              "      border-color: transparent;\n",
              "      border-left-color: var(--fill-color);\n",
              "      border-top-color: var(--fill-color);\n",
              "      border-right-color: var(--fill-color);\n",
              "    }\n",
              "    40% {\n",
              "      border-color: transparent;\n",
              "      border-right-color: var(--fill-color);\n",
              "      border-top-color: var(--fill-color);\n",
              "    }\n",
              "    60% {\n",
              "      border-color: transparent;\n",
              "      border-right-color: var(--fill-color);\n",
              "    }\n",
              "    80% {\n",
              "      border-color: transparent;\n",
              "      border-right-color: var(--fill-color);\n",
              "      border-bottom-color: var(--fill-color);\n",
              "    }\n",
              "    90% {\n",
              "      border-color: transparent;\n",
              "      border-bottom-color: var(--fill-color);\n",
              "    }\n",
              "  }\n",
              "</style>\n",
              "\n",
              "      <script>\n",
              "        async function quickchart(key) {\n",
              "          const quickchartButtonEl =\n",
              "            document.querySelector('#' + key + ' button');\n",
              "          quickchartButtonEl.disabled = true;  // To prevent multiple clicks.\n",
              "          quickchartButtonEl.classList.add('colab-df-spinner');\n",
              "          try {\n",
              "            const charts = await google.colab.kernel.invokeFunction(\n",
              "                'suggestCharts', [key], {});\n",
              "          } catch (error) {\n",
              "            console.error('Error during call to suggestCharts:', error);\n",
              "          }\n",
              "          quickchartButtonEl.classList.remove('colab-df-spinner');\n",
              "          quickchartButtonEl.classList.add('colab-df-quickchart-complete');\n",
              "        }\n",
              "        (() => {\n",
              "          let quickchartButtonEl =\n",
              "            document.querySelector('#df-00da1bad-b660-4ea7-81d9-13802c5121cf button');\n",
              "          quickchartButtonEl.style.display =\n",
              "            google.colab.kernel.accessAllowed ? 'block' : 'none';\n",
              "        })();\n",
              "      </script>\n",
              "    </div>\n",
              "\n",
              "    </div>\n",
              "  </div>\n"
            ],
            "application/vnd.google.colaboratory.intrinsic+json": {
              "type": "dataframe",
              "summary": "{\n  \"name\": \"df_indicadores\",\n  \"rows\": 10,\n  \"fields\": [\n    {\n      \"column\": \"offer_id_pk\",\n      \"properties\": {\n        \"dtype\": \"string\",\n        \"num_unique_values\": 10,\n        \"samples\": [\n          \"f19421c1d4aa40978ebb69ca19b0e20d\",\n          \"2298d6c36e964ae4a3e7e9706d1fb8c2\",\n          \"5a8bc65990b245e5a138643cd4eb9837\"\n        ],\n        \"semantic_type\": \"\",\n        \"description\": \"\"\n      }\n    },\n    {\n      \"column\": \"n_offer_completed\",\n      \"properties\": {\n        \"dtype\": \"number\",\n        \"std\": 1868,\n        \"min\": 0,\n        \"max\": 5265,\n        \"num_unique_values\": 9,\n        \"samples\": [\n          4262,\n          5112,\n          4303\n        ],\n        \"semantic_type\": \"\",\n        \"description\": \"\"\n      }\n    }\n  ]\n}"
            }
          },
          "metadata": {},
          "execution_count": 50
        }
      ]
    },
    {
      "cell_type": "markdown",
      "source": [
        "### Qual oferta teve mais visualização?"
      ],
      "metadata": {
        "id": "ZXij237peUoE"
      }
    },
    {
      "cell_type": "code",
      "source": [
        "df_indicadores.groupby('offer_id_pk', as_index=False)['n_offer_viewed'].sum()"
      ],
      "metadata": {
        "id": "WM20iSMB34k2",
        "colab": {
          "base_uri": "https://localhost:8080/",
          "height": 362
        },
        "outputId": "26aedd89-8921-4f12-b9d9-e2c9b89e3b40"
      },
      "execution_count": null,
      "outputs": [
        {
          "output_type": "execute_result",
          "data": {
            "text/plain": [
              "                        offer_id_pk  n_offer_viewed\n",
              "0  0b1e1539f2cc45b7b9fa7c272da2e1d7            2663\n",
              "1  2298d6c36e964ae4a3e7e9706d1fb8c2            7337\n",
              "2  2906b810c7d4411798c6938adc9daaa5            4118\n",
              "3  3f207df678b143eea3cee63160fa8bed            4144\n",
              "4  4d5c57ea9a6940dd891ad53e9dbe8da0            7298\n",
              "5  5a8bc65990b245e5a138643cd4eb9837            6687\n",
              "6  9b98b8c7a33c4b65b9aebfe6a799e6d9            4171\n",
              "7  ae264e3637204a6fb9bb56bc8210ddfd            6716\n",
              "8  f19421c1d4aa40978ebb69ca19b0e20d            7264\n",
              "9  fafdcd668e3743c1bb461111dcafc2a4            7327"
            ],
            "text/html": [
              "\n",
              "  <div id=\"df-9e21520a-12e9-454c-9e77-43013c16bbe5\" class=\"colab-df-container\">\n",
              "    <div>\n",
              "<style scoped>\n",
              "    .dataframe tbody tr th:only-of-type {\n",
              "        vertical-align: middle;\n",
              "    }\n",
              "\n",
              "    .dataframe tbody tr th {\n",
              "        vertical-align: top;\n",
              "    }\n",
              "\n",
              "    .dataframe thead th {\n",
              "        text-align: right;\n",
              "    }\n",
              "</style>\n",
              "<table border=\"1\" class=\"dataframe\">\n",
              "  <thead>\n",
              "    <tr style=\"text-align: right;\">\n",
              "      <th></th>\n",
              "      <th>offer_id_pk</th>\n",
              "      <th>n_offer_viewed</th>\n",
              "    </tr>\n",
              "  </thead>\n",
              "  <tbody>\n",
              "    <tr>\n",
              "      <th>0</th>\n",
              "      <td>0b1e1539f2cc45b7b9fa7c272da2e1d7</td>\n",
              "      <td>2663</td>\n",
              "    </tr>\n",
              "    <tr>\n",
              "      <th>1</th>\n",
              "      <td>2298d6c36e964ae4a3e7e9706d1fb8c2</td>\n",
              "      <td>7337</td>\n",
              "    </tr>\n",
              "    <tr>\n",
              "      <th>2</th>\n",
              "      <td>2906b810c7d4411798c6938adc9daaa5</td>\n",
              "      <td>4118</td>\n",
              "    </tr>\n",
              "    <tr>\n",
              "      <th>3</th>\n",
              "      <td>3f207df678b143eea3cee63160fa8bed</td>\n",
              "      <td>4144</td>\n",
              "    </tr>\n",
              "    <tr>\n",
              "      <th>4</th>\n",
              "      <td>4d5c57ea9a6940dd891ad53e9dbe8da0</td>\n",
              "      <td>7298</td>\n",
              "    </tr>\n",
              "    <tr>\n",
              "      <th>5</th>\n",
              "      <td>5a8bc65990b245e5a138643cd4eb9837</td>\n",
              "      <td>6687</td>\n",
              "    </tr>\n",
              "    <tr>\n",
              "      <th>6</th>\n",
              "      <td>9b98b8c7a33c4b65b9aebfe6a799e6d9</td>\n",
              "      <td>4171</td>\n",
              "    </tr>\n",
              "    <tr>\n",
              "      <th>7</th>\n",
              "      <td>ae264e3637204a6fb9bb56bc8210ddfd</td>\n",
              "      <td>6716</td>\n",
              "    </tr>\n",
              "    <tr>\n",
              "      <th>8</th>\n",
              "      <td>f19421c1d4aa40978ebb69ca19b0e20d</td>\n",
              "      <td>7264</td>\n",
              "    </tr>\n",
              "    <tr>\n",
              "      <th>9</th>\n",
              "      <td>fafdcd668e3743c1bb461111dcafc2a4</td>\n",
              "      <td>7327</td>\n",
              "    </tr>\n",
              "  </tbody>\n",
              "</table>\n",
              "</div>\n",
              "    <div class=\"colab-df-buttons\">\n",
              "\n",
              "  <div class=\"colab-df-container\">\n",
              "    <button class=\"colab-df-convert\" onclick=\"convertToInteractive('df-9e21520a-12e9-454c-9e77-43013c16bbe5')\"\n",
              "            title=\"Convert this dataframe to an interactive table.\"\n",
              "            style=\"display:none;\">\n",
              "\n",
              "  <svg xmlns=\"http://www.w3.org/2000/svg\" height=\"24px\" viewBox=\"0 -960 960 960\">\n",
              "    <path d=\"M120-120v-720h720v720H120Zm60-500h600v-160H180v160Zm220 220h160v-160H400v160Zm0 220h160v-160H400v160ZM180-400h160v-160H180v160Zm440 0h160v-160H620v160ZM180-180h160v-160H180v160Zm440 0h160v-160H620v160Z\"/>\n",
              "  </svg>\n",
              "    </button>\n",
              "\n",
              "  <style>\n",
              "    .colab-df-container {\n",
              "      display:flex;\n",
              "      gap: 12px;\n",
              "    }\n",
              "\n",
              "    .colab-df-convert {\n",
              "      background-color: #E8F0FE;\n",
              "      border: none;\n",
              "      border-radius: 50%;\n",
              "      cursor: pointer;\n",
              "      display: none;\n",
              "      fill: #1967D2;\n",
              "      height: 32px;\n",
              "      padding: 0 0 0 0;\n",
              "      width: 32px;\n",
              "    }\n",
              "\n",
              "    .colab-df-convert:hover {\n",
              "      background-color: #E2EBFA;\n",
              "      box-shadow: 0px 1px 2px rgba(60, 64, 67, 0.3), 0px 1px 3px 1px rgba(60, 64, 67, 0.15);\n",
              "      fill: #174EA6;\n",
              "    }\n",
              "\n",
              "    .colab-df-buttons div {\n",
              "      margin-bottom: 4px;\n",
              "    }\n",
              "\n",
              "    [theme=dark] .colab-df-convert {\n",
              "      background-color: #3B4455;\n",
              "      fill: #D2E3FC;\n",
              "    }\n",
              "\n",
              "    [theme=dark] .colab-df-convert:hover {\n",
              "      background-color: #434B5C;\n",
              "      box-shadow: 0px 1px 3px 1px rgba(0, 0, 0, 0.15);\n",
              "      filter: drop-shadow(0px 1px 2px rgba(0, 0, 0, 0.3));\n",
              "      fill: #FFFFFF;\n",
              "    }\n",
              "  </style>\n",
              "\n",
              "    <script>\n",
              "      const buttonEl =\n",
              "        document.querySelector('#df-9e21520a-12e9-454c-9e77-43013c16bbe5 button.colab-df-convert');\n",
              "      buttonEl.style.display =\n",
              "        google.colab.kernel.accessAllowed ? 'block' : 'none';\n",
              "\n",
              "      async function convertToInteractive(key) {\n",
              "        const element = document.querySelector('#df-9e21520a-12e9-454c-9e77-43013c16bbe5');\n",
              "        const dataTable =\n",
              "          await google.colab.kernel.invokeFunction('convertToInteractive',\n",
              "                                                    [key], {});\n",
              "        if (!dataTable) return;\n",
              "\n",
              "        const docLinkHtml = 'Like what you see? Visit the ' +\n",
              "          '<a target=\"_blank\" href=https://colab.research.google.com/notebooks/data_table.ipynb>data table notebook</a>'\n",
              "          + ' to learn more about interactive tables.';\n",
              "        element.innerHTML = '';\n",
              "        dataTable['output_type'] = 'display_data';\n",
              "        await google.colab.output.renderOutput(dataTable, element);\n",
              "        const docLink = document.createElement('div');\n",
              "        docLink.innerHTML = docLinkHtml;\n",
              "        element.appendChild(docLink);\n",
              "      }\n",
              "    </script>\n",
              "  </div>\n",
              "\n",
              "\n",
              "    <div id=\"df-475720d4-bbd0-4045-bc9c-c03c2abaf63c\">\n",
              "      <button class=\"colab-df-quickchart\" onclick=\"quickchart('df-475720d4-bbd0-4045-bc9c-c03c2abaf63c')\"\n",
              "                title=\"Suggest charts\"\n",
              "                style=\"display:none;\">\n",
              "\n",
              "<svg xmlns=\"http://www.w3.org/2000/svg\" height=\"24px\"viewBox=\"0 0 24 24\"\n",
              "     width=\"24px\">\n",
              "    <g>\n",
              "        <path d=\"M19 3H5c-1.1 0-2 .9-2 2v14c0 1.1.9 2 2 2h14c1.1 0 2-.9 2-2V5c0-1.1-.9-2-2-2zM9 17H7v-7h2v7zm4 0h-2V7h2v10zm4 0h-2v-4h2v4z\"/>\n",
              "    </g>\n",
              "</svg>\n",
              "      </button>\n",
              "\n",
              "<style>\n",
              "  .colab-df-quickchart {\n",
              "      --bg-color: #E8F0FE;\n",
              "      --fill-color: #1967D2;\n",
              "      --hover-bg-color: #E2EBFA;\n",
              "      --hover-fill-color: #174EA6;\n",
              "      --disabled-fill-color: #AAA;\n",
              "      --disabled-bg-color: #DDD;\n",
              "  }\n",
              "\n",
              "  [theme=dark] .colab-df-quickchart {\n",
              "      --bg-color: #3B4455;\n",
              "      --fill-color: #D2E3FC;\n",
              "      --hover-bg-color: #434B5C;\n",
              "      --hover-fill-color: #FFFFFF;\n",
              "      --disabled-bg-color: #3B4455;\n",
              "      --disabled-fill-color: #666;\n",
              "  }\n",
              "\n",
              "  .colab-df-quickchart {\n",
              "    background-color: var(--bg-color);\n",
              "    border: none;\n",
              "    border-radius: 50%;\n",
              "    cursor: pointer;\n",
              "    display: none;\n",
              "    fill: var(--fill-color);\n",
              "    height: 32px;\n",
              "    padding: 0;\n",
              "    width: 32px;\n",
              "  }\n",
              "\n",
              "  .colab-df-quickchart:hover {\n",
              "    background-color: var(--hover-bg-color);\n",
              "    box-shadow: 0 1px 2px rgba(60, 64, 67, 0.3), 0 1px 3px 1px rgba(60, 64, 67, 0.15);\n",
              "    fill: var(--button-hover-fill-color);\n",
              "  }\n",
              "\n",
              "  .colab-df-quickchart-complete:disabled,\n",
              "  .colab-df-quickchart-complete:disabled:hover {\n",
              "    background-color: var(--disabled-bg-color);\n",
              "    fill: var(--disabled-fill-color);\n",
              "    box-shadow: none;\n",
              "  }\n",
              "\n",
              "  .colab-df-spinner {\n",
              "    border: 2px solid var(--fill-color);\n",
              "    border-color: transparent;\n",
              "    border-bottom-color: var(--fill-color);\n",
              "    animation:\n",
              "      spin 1s steps(1) infinite;\n",
              "  }\n",
              "\n",
              "  @keyframes spin {\n",
              "    0% {\n",
              "      border-color: transparent;\n",
              "      border-bottom-color: var(--fill-color);\n",
              "      border-left-color: var(--fill-color);\n",
              "    }\n",
              "    20% {\n",
              "      border-color: transparent;\n",
              "      border-left-color: var(--fill-color);\n",
              "      border-top-color: var(--fill-color);\n",
              "    }\n",
              "    30% {\n",
              "      border-color: transparent;\n",
              "      border-left-color: var(--fill-color);\n",
              "      border-top-color: var(--fill-color);\n",
              "      border-right-color: var(--fill-color);\n",
              "    }\n",
              "    40% {\n",
              "      border-color: transparent;\n",
              "      border-right-color: var(--fill-color);\n",
              "      border-top-color: var(--fill-color);\n",
              "    }\n",
              "    60% {\n",
              "      border-color: transparent;\n",
              "      border-right-color: var(--fill-color);\n",
              "    }\n",
              "    80% {\n",
              "      border-color: transparent;\n",
              "      border-right-color: var(--fill-color);\n",
              "      border-bottom-color: var(--fill-color);\n",
              "    }\n",
              "    90% {\n",
              "      border-color: transparent;\n",
              "      border-bottom-color: var(--fill-color);\n",
              "    }\n",
              "  }\n",
              "</style>\n",
              "\n",
              "      <script>\n",
              "        async function quickchart(key) {\n",
              "          const quickchartButtonEl =\n",
              "            document.querySelector('#' + key + ' button');\n",
              "          quickchartButtonEl.disabled = true;  // To prevent multiple clicks.\n",
              "          quickchartButtonEl.classList.add('colab-df-spinner');\n",
              "          try {\n",
              "            const charts = await google.colab.kernel.invokeFunction(\n",
              "                'suggestCharts', [key], {});\n",
              "          } catch (error) {\n",
              "            console.error('Error during call to suggestCharts:', error);\n",
              "          }\n",
              "          quickchartButtonEl.classList.remove('colab-df-spinner');\n",
              "          quickchartButtonEl.classList.add('colab-df-quickchart-complete');\n",
              "        }\n",
              "        (() => {\n",
              "          let quickchartButtonEl =\n",
              "            document.querySelector('#df-475720d4-bbd0-4045-bc9c-c03c2abaf63c button');\n",
              "          quickchartButtonEl.style.display =\n",
              "            google.colab.kernel.accessAllowed ? 'block' : 'none';\n",
              "        })();\n",
              "      </script>\n",
              "    </div>\n",
              "\n",
              "    </div>\n",
              "  </div>\n"
            ],
            "application/vnd.google.colaboratory.intrinsic+json": {
              "type": "dataframe",
              "summary": "{\n  \"name\": \"df_indicadores\",\n  \"rows\": 10,\n  \"fields\": [\n    {\n      \"column\": \"offer_id_pk\",\n      \"properties\": {\n        \"dtype\": \"string\",\n        \"num_unique_values\": 10,\n        \"samples\": [\n          \"f19421c1d4aa40978ebb69ca19b0e20d\",\n          \"2298d6c36e964ae4a3e7e9706d1fb8c2\",\n          \"5a8bc65990b245e5a138643cd4eb9837\"\n        ],\n        \"semantic_type\": \"\",\n        \"description\": \"\"\n      }\n    },\n    {\n      \"column\": \"n_offer_viewed\",\n      \"properties\": {\n        \"dtype\": \"number\",\n        \"std\": 1787,\n        \"min\": 2663,\n        \"max\": 7337,\n        \"num_unique_values\": 10,\n        \"samples\": [\n          7264,\n          7337,\n          6687\n        ],\n        \"semantic_type\": \"\",\n        \"description\": \"\"\n      }\n    }\n  ]\n}"
            }
          },
          "metadata": {},
          "execution_count": 51
        }
      ]
    },
    {
      "cell_type": "markdown",
      "source": [
        "## Valor gasto em transações por cada cliente"
      ],
      "metadata": {
        "id": "3YukkLcRdret"
      }
    },
    {
      "cell_type": "code",
      "source": [
        "df_transacoes = transactions[transactions['event']=='transaction']\n",
        "df_transacoes = df_transacoes[['account_id','amount']]\n",
        "df_transacoes = df_transacoes.groupby('account_id', as_index=False).sum()"
      ],
      "metadata": {
        "id": "G7ik9A12dqvl"
      },
      "execution_count": null,
      "outputs": []
    },
    {
      "cell_type": "code",
      "source": [
        "df_transacoes.columns = ['account_id','valor_total_gasto_transacoes']\n",
        "\n",
        "df = df.merge(df_transacoes, how='left', left_on='account_id', right_on='account_id')\n",
        "print(df.shape)\n",
        "df.head(1)"
      ],
      "metadata": {
        "colab": {
          "base_uri": "https://localhost:8080/",
          "height": 165
        },
        "id": "xr3upRaVfAuG",
        "outputId": "fc003097-9592-4180-9662-048d4b22d8c3"
      },
      "execution_count": null,
      "outputs": [
        {
          "output_type": "stream",
          "name": "stdout",
          "text": [
            "(306137, 27)\n"
          ]
        },
        {
          "output_type": "execute_result",
          "data": {
            "text/plain": [
              "                         account_id                        profile_id  \\\n",
              "0  78afa995795e4d85b5d9ceeca43f5fef  78afa995795e4d85b5d9ceeca43f5fef   \n",
              "\n",
              "            event                       offer_id_pk offer_id_info  \\\n",
              "0  offer received  9b98b8c7a33c4b65b9aebfe6a799e6d9          None   \n",
              "\n",
              "   time_since_test_start  amount  reward  age  registered_on  ... channel_1  \\\n",
              "0                   0.00     NaN     NaN   75       20170509  ...     email   \n",
              "\n",
              "   channel_2  channel_3  target       Fx_Idade  registered_date account_age  \\\n",
              "0     mobile        NaN       0  Entre 66 e 90       2017-05-09        8.14   \n",
              "\n",
              "  Fx_Tempo_Conta         Fx_Limite valor_total_gasto_transacoes  \n",
              "0   Entre 9 e 10  Entre 80k e 100k                       159.27  \n",
              "\n",
              "[1 rows x 27 columns]"
            ],
            "text/html": [
              "\n",
              "  <div id=\"df-3f5eb00e-dbb0-4b24-bb09-116e6083a447\" class=\"colab-df-container\">\n",
              "    <div>\n",
              "<style scoped>\n",
              "    .dataframe tbody tr th:only-of-type {\n",
              "        vertical-align: middle;\n",
              "    }\n",
              "\n",
              "    .dataframe tbody tr th {\n",
              "        vertical-align: top;\n",
              "    }\n",
              "\n",
              "    .dataframe thead th {\n",
              "        text-align: right;\n",
              "    }\n",
              "</style>\n",
              "<table border=\"1\" class=\"dataframe\">\n",
              "  <thead>\n",
              "    <tr style=\"text-align: right;\">\n",
              "      <th></th>\n",
              "      <th>account_id</th>\n",
              "      <th>profile_id</th>\n",
              "      <th>event</th>\n",
              "      <th>offer_id_pk</th>\n",
              "      <th>offer_id_info</th>\n",
              "      <th>time_since_test_start</th>\n",
              "      <th>amount</th>\n",
              "      <th>reward</th>\n",
              "      <th>age</th>\n",
              "      <th>registered_on</th>\n",
              "      <th>...</th>\n",
              "      <th>channel_1</th>\n",
              "      <th>channel_2</th>\n",
              "      <th>channel_3</th>\n",
              "      <th>target</th>\n",
              "      <th>Fx_Idade</th>\n",
              "      <th>registered_date</th>\n",
              "      <th>account_age</th>\n",
              "      <th>Fx_Tempo_Conta</th>\n",
              "      <th>Fx_Limite</th>\n",
              "      <th>valor_total_gasto_transacoes</th>\n",
              "    </tr>\n",
              "  </thead>\n",
              "  <tbody>\n",
              "    <tr>\n",
              "      <th>0</th>\n",
              "      <td>78afa995795e4d85b5d9ceeca43f5fef</td>\n",
              "      <td>78afa995795e4d85b5d9ceeca43f5fef</td>\n",
              "      <td>offer received</td>\n",
              "      <td>9b98b8c7a33c4b65b9aebfe6a799e6d9</td>\n",
              "      <td>None</td>\n",
              "      <td>0.00</td>\n",
              "      <td>NaN</td>\n",
              "      <td>NaN</td>\n",
              "      <td>75</td>\n",
              "      <td>20170509</td>\n",
              "      <td>...</td>\n",
              "      <td>email</td>\n",
              "      <td>mobile</td>\n",
              "      <td>NaN</td>\n",
              "      <td>0</td>\n",
              "      <td>Entre 66 e 90</td>\n",
              "      <td>2017-05-09</td>\n",
              "      <td>8.14</td>\n",
              "      <td>Entre 9 e 10</td>\n",
              "      <td>Entre 80k e 100k</td>\n",
              "      <td>159.27</td>\n",
              "    </tr>\n",
              "  </tbody>\n",
              "</table>\n",
              "<p>1 rows × 27 columns</p>\n",
              "</div>\n",
              "    <div class=\"colab-df-buttons\">\n",
              "\n",
              "  <div class=\"colab-df-container\">\n",
              "    <button class=\"colab-df-convert\" onclick=\"convertToInteractive('df-3f5eb00e-dbb0-4b24-bb09-116e6083a447')\"\n",
              "            title=\"Convert this dataframe to an interactive table.\"\n",
              "            style=\"display:none;\">\n",
              "\n",
              "  <svg xmlns=\"http://www.w3.org/2000/svg\" height=\"24px\" viewBox=\"0 -960 960 960\">\n",
              "    <path d=\"M120-120v-720h720v720H120Zm60-500h600v-160H180v160Zm220 220h160v-160H400v160Zm0 220h160v-160H400v160ZM180-400h160v-160H180v160Zm440 0h160v-160H620v160ZM180-180h160v-160H180v160Zm440 0h160v-160H620v160Z\"/>\n",
              "  </svg>\n",
              "    </button>\n",
              "\n",
              "  <style>\n",
              "    .colab-df-container {\n",
              "      display:flex;\n",
              "      gap: 12px;\n",
              "    }\n",
              "\n",
              "    .colab-df-convert {\n",
              "      background-color: #E8F0FE;\n",
              "      border: none;\n",
              "      border-radius: 50%;\n",
              "      cursor: pointer;\n",
              "      display: none;\n",
              "      fill: #1967D2;\n",
              "      height: 32px;\n",
              "      padding: 0 0 0 0;\n",
              "      width: 32px;\n",
              "    }\n",
              "\n",
              "    .colab-df-convert:hover {\n",
              "      background-color: #E2EBFA;\n",
              "      box-shadow: 0px 1px 2px rgba(60, 64, 67, 0.3), 0px 1px 3px 1px rgba(60, 64, 67, 0.15);\n",
              "      fill: #174EA6;\n",
              "    }\n",
              "\n",
              "    .colab-df-buttons div {\n",
              "      margin-bottom: 4px;\n",
              "    }\n",
              "\n",
              "    [theme=dark] .colab-df-convert {\n",
              "      background-color: #3B4455;\n",
              "      fill: #D2E3FC;\n",
              "    }\n",
              "\n",
              "    [theme=dark] .colab-df-convert:hover {\n",
              "      background-color: #434B5C;\n",
              "      box-shadow: 0px 1px 3px 1px rgba(0, 0, 0, 0.15);\n",
              "      filter: drop-shadow(0px 1px 2px rgba(0, 0, 0, 0.3));\n",
              "      fill: #FFFFFF;\n",
              "    }\n",
              "  </style>\n",
              "\n",
              "    <script>\n",
              "      const buttonEl =\n",
              "        document.querySelector('#df-3f5eb00e-dbb0-4b24-bb09-116e6083a447 button.colab-df-convert');\n",
              "      buttonEl.style.display =\n",
              "        google.colab.kernel.accessAllowed ? 'block' : 'none';\n",
              "\n",
              "      async function convertToInteractive(key) {\n",
              "        const element = document.querySelector('#df-3f5eb00e-dbb0-4b24-bb09-116e6083a447');\n",
              "        const dataTable =\n",
              "          await google.colab.kernel.invokeFunction('convertToInteractive',\n",
              "                                                    [key], {});\n",
              "        if (!dataTable) return;\n",
              "\n",
              "        const docLinkHtml = 'Like what you see? Visit the ' +\n",
              "          '<a target=\"_blank\" href=https://colab.research.google.com/notebooks/data_table.ipynb>data table notebook</a>'\n",
              "          + ' to learn more about interactive tables.';\n",
              "        element.innerHTML = '';\n",
              "        dataTable['output_type'] = 'display_data';\n",
              "        await google.colab.output.renderOutput(dataTable, element);\n",
              "        const docLink = document.createElement('div');\n",
              "        docLink.innerHTML = docLinkHtml;\n",
              "        element.appendChild(docLink);\n",
              "      }\n",
              "    </script>\n",
              "  </div>\n",
              "\n",
              "\n",
              "    </div>\n",
              "  </div>\n"
            ],
            "application/vnd.google.colaboratory.intrinsic+json": {
              "type": "dataframe",
              "variable_name": "df"
            }
          },
          "metadata": {},
          "execution_count": 53
        }
      ]
    },
    {
      "cell_type": "code",
      "source": [
        "df = df.reset_index()\n",
        "df.to_csv('/content/drive/MyDrive/10_Trabalho/2_Cases_testes/202506_Ifood/ifood-case/data/processed/df_processed.csv', index=False)"
      ],
      "metadata": {
        "id": "Xtv-nOqxnSYv"
      },
      "execution_count": null,
      "outputs": []
    },
    {
      "cell_type": "markdown",
      "source": [
        "# Data Preparation"
      ],
      "metadata": {
        "id": "6x7hUHNQfK5M"
      }
    },
    {
      "cell_type": "code",
      "source": [
        "df.columns"
      ],
      "metadata": {
        "id": "jAI9nvTHOjLy",
        "colab": {
          "base_uri": "https://localhost:8080/"
        },
        "outputId": "c2c8310a-bb73-4fdf-ccf6-f772c04f68c6"
      },
      "execution_count": null,
      "outputs": [
        {
          "output_type": "execute_result",
          "data": {
            "text/plain": [
              "Index(['index', 'account_id', 'profile_id', 'event', 'offer_id_pk',\n",
              "       'offer_id_info', 'time_since_test_start', 'amount', 'reward', 'age',\n",
              "       'registered_on', 'gender', 'credit_card_limit', 'min_value', 'duration',\n",
              "       'offer_type', 'discount_value', 'channel_0', 'channel_1', 'channel_2',\n",
              "       'channel_3', 'target', 'Fx_Idade', 'registered_date', 'account_age',\n",
              "       'Fx_Tempo_Conta', 'Fx_Limite', 'valor_total_gasto_transacoes'],\n",
              "      dtype='object')"
            ]
          },
          "metadata": {},
          "execution_count": 55
        }
      ]
    },
    {
      "cell_type": "code",
      "source": [
        "df.shape\n",
        "df_final = df[df['event']!= 'transaction']\n",
        "df_final.shape"
      ],
      "metadata": {
        "colab": {
          "base_uri": "https://localhost:8080/"
        },
        "id": "mNr_HEi4Erkx",
        "outputId": "b038f7f7-238e-4b37-b019-09f0a425af4b"
      },
      "execution_count": null,
      "outputs": [
        {
          "output_type": "execute_result",
          "data": {
            "text/plain": [
              "(167184, 28)"
            ]
          },
          "metadata": {},
          "execution_count": 56
        }
      ]
    },
    {
      "cell_type": "code",
      "source": [
        "#Filtrando variaveis que descrevem o cliente\n",
        "df_final = df_final[['account_id', 'offer_id_pk','age',\n",
        "       'gender', 'credit_card_limit','valor_total_gasto_transacoes',\n",
        "       'account_age', 'target']]"
      ],
      "metadata": {
        "id": "G8ZWIZZMBNFK"
      },
      "execution_count": null,
      "outputs": []
    },
    {
      "cell_type": "markdown",
      "source": [
        "## Valores Ausentes"
      ],
      "metadata": {
        "id": "F_bg5Na6CT8d"
      }
    },
    {
      "cell_type": "code",
      "source": [
        "# Verificando o time de dado de cada variavel, numero de amostras e valores ausentes\n",
        "df_ausentes = pd.DataFrame({\n",
        "    'n_faltantes': df_final.isna().sum(),\n",
        "    'percentual': df_final.isna().mean() * 100\n",
        "}).sort_values('percentual', ascending=False)\n",
        "\n",
        "print(df_ausentes)"
      ],
      "metadata": {
        "id": "LNzE78RFCVt4",
        "colab": {
          "base_uri": "https://localhost:8080/"
        },
        "outputId": "c11b67bd-5c34-4be1-d50e-2237f10b67df"
      },
      "execution_count": null,
      "outputs": [
        {
          "output_type": "stream",
          "name": "stdout",
          "text": [
            "                              n_faltantes  percentual\n",
            "gender                              18753       11.22\n",
            "credit_card_limit                   18753       11.22\n",
            "valor_total_gasto_transacoes         3373        2.02\n",
            "account_id                              0        0.00\n",
            "age                                     0        0.00\n",
            "offer_id_pk                             0        0.00\n",
            "account_age                             0        0.00\n",
            "target                                  0        0.00\n"
          ]
        }
      ]
    },
    {
      "cell_type": "code",
      "source": [
        "# Preencher valores ausentes dos campos numericos com 0\n",
        "col_ausentes = ['credit_card_limit','valor_total_gasto_transacoes']\n",
        "df_final[col_ausentes] = df_final[col_ausentes].fillna(0)"
      ],
      "metadata": {
        "id": "Nfd9hAInCtPi"
      },
      "execution_count": null,
      "outputs": []
    },
    {
      "cell_type": "code",
      "source": [
        "df_final['gender'].value_counts()"
      ],
      "metadata": {
        "id": "P4zQbUtPEdEj",
        "colab": {
          "base_uri": "https://localhost:8080/",
          "height": 209
        },
        "outputId": "5985a78b-b097-46da-f16b-3da1a0962448"
      },
      "execution_count": null,
      "outputs": [
        {
          "output_type": "execute_result",
          "data": {
            "text/plain": [
              "gender\n",
              "M    82689\n",
              "F    63558\n",
              "O     2184\n",
              "Name: count, dtype: int64"
            ],
            "text/html": [
              "<div>\n",
              "<style scoped>\n",
              "    .dataframe tbody tr th:only-of-type {\n",
              "        vertical-align: middle;\n",
              "    }\n",
              "\n",
              "    .dataframe tbody tr th {\n",
              "        vertical-align: top;\n",
              "    }\n",
              "\n",
              "    .dataframe thead th {\n",
              "        text-align: right;\n",
              "    }\n",
              "</style>\n",
              "<table border=\"1\" class=\"dataframe\">\n",
              "  <thead>\n",
              "    <tr style=\"text-align: right;\">\n",
              "      <th></th>\n",
              "      <th>count</th>\n",
              "    </tr>\n",
              "    <tr>\n",
              "      <th>gender</th>\n",
              "      <th></th>\n",
              "    </tr>\n",
              "  </thead>\n",
              "  <tbody>\n",
              "    <tr>\n",
              "      <th>M</th>\n",
              "      <td>82689</td>\n",
              "    </tr>\n",
              "    <tr>\n",
              "      <th>F</th>\n",
              "      <td>63558</td>\n",
              "    </tr>\n",
              "    <tr>\n",
              "      <th>O</th>\n",
              "      <td>2184</td>\n",
              "    </tr>\n",
              "  </tbody>\n",
              "</table>\n",
              "</div><br><label><b>dtype:</b> int64</label>"
            ]
          },
          "metadata": {},
          "execution_count": 60
        }
      ]
    },
    {
      "cell_type": "code",
      "source": [
        "# gender, 'canal_preferido',\n",
        "df_final['gender'] = df_final['gender'].fillna('O')"
      ],
      "metadata": {
        "id": "PjCC5GU6C-mZ"
      },
      "execution_count": null,
      "outputs": []
    },
    {
      "cell_type": "code",
      "source": [
        "# Verificando o time de dado de cada variavel, numero de amostras e valores ausentes\n",
        "df_ausentes = pd.DataFrame({\n",
        "    'n_faltantes': df_final.isna().sum(),\n",
        "    'percentual': df_final.isna().mean() * 100\n",
        "}).sort_values('percentual', ascending=False)\n",
        "\n",
        "print(df_ausentes)"
      ],
      "metadata": {
        "id": "u-QWcivuEMVx",
        "colab": {
          "base_uri": "https://localhost:8080/"
        },
        "outputId": "d0ae7811-9006-411e-e4c0-8e9d4007efba"
      },
      "execution_count": null,
      "outputs": [
        {
          "output_type": "stream",
          "name": "stdout",
          "text": [
            "                              n_faltantes  percentual\n",
            "account_id                              0        0.00\n",
            "offer_id_pk                             0        0.00\n",
            "age                                     0        0.00\n",
            "gender                                  0        0.00\n",
            "credit_card_limit                       0        0.00\n",
            "valor_total_gasto_transacoes            0        0.00\n",
            "account_age                             0        0.00\n",
            "target                                  0        0.00\n"
          ]
        }
      ]
    },
    {
      "cell_type": "code",
      "source": [
        "df_final = df_final.drop_duplicates()"
      ],
      "metadata": {
        "id": "rFeXZJCtFgyw"
      },
      "execution_count": null,
      "outputs": []
    },
    {
      "cell_type": "code",
      "source": [
        "#Informações gerais da base de dados\n",
        "print('Quantidade de exemplos (linhas) :',df_final.shape[0])\n",
        "print('Quantidade de caracteristicas (colunas) :',df_final.shape[1])\n",
        "print('Quantidade de linhas duplicadas:',df_final[df_final.duplicated()].shape[0])"
      ],
      "metadata": {
        "id": "c771xQYglopj",
        "colab": {
          "base_uri": "https://localhost:8080/"
        },
        "outputId": "022de891-a302-4d39-cd80-e6e5cf098136"
      },
      "execution_count": null,
      "outputs": [
        {
          "output_type": "stream",
          "name": "stdout",
          "text": [
            "Quantidade de exemplos (linhas) : 92284\n",
            "Quantidade de caracteristicas (colunas) : 8\n",
            "Quantidade de linhas duplicadas: 0\n"
          ]
        }
      ]
    },
    {
      "cell_type": "code",
      "source": [
        "df_final.head(1)"
      ],
      "metadata": {
        "colab": {
          "base_uri": "https://localhost:8080/",
          "height": 80
        },
        "id": "hUa2GPzHFpcY",
        "outputId": "98422d9f-51f9-4018-9f10-fc1dc21b21ae"
      },
      "execution_count": null,
      "outputs": [
        {
          "output_type": "execute_result",
          "data": {
            "text/plain": [
              "                         account_id                       offer_id_pk  age  \\\n",
              "0  78afa995795e4d85b5d9ceeca43f5fef  9b98b8c7a33c4b65b9aebfe6a799e6d9   75   \n",
              "\n",
              "  gender  credit_card_limit  valor_total_gasto_transacoes  account_age  target  \n",
              "0      F          100000.00                        159.27         8.14       0  "
            ],
            "text/html": [
              "\n",
              "  <div id=\"df-d6682f70-91dc-4870-88e4-ff3f78473a92\" class=\"colab-df-container\">\n",
              "    <div>\n",
              "<style scoped>\n",
              "    .dataframe tbody tr th:only-of-type {\n",
              "        vertical-align: middle;\n",
              "    }\n",
              "\n",
              "    .dataframe tbody tr th {\n",
              "        vertical-align: top;\n",
              "    }\n",
              "\n",
              "    .dataframe thead th {\n",
              "        text-align: right;\n",
              "    }\n",
              "</style>\n",
              "<table border=\"1\" class=\"dataframe\">\n",
              "  <thead>\n",
              "    <tr style=\"text-align: right;\">\n",
              "      <th></th>\n",
              "      <th>account_id</th>\n",
              "      <th>offer_id_pk</th>\n",
              "      <th>age</th>\n",
              "      <th>gender</th>\n",
              "      <th>credit_card_limit</th>\n",
              "      <th>valor_total_gasto_transacoes</th>\n",
              "      <th>account_age</th>\n",
              "      <th>target</th>\n",
              "    </tr>\n",
              "  </thead>\n",
              "  <tbody>\n",
              "    <tr>\n",
              "      <th>0</th>\n",
              "      <td>78afa995795e4d85b5d9ceeca43f5fef</td>\n",
              "      <td>9b98b8c7a33c4b65b9aebfe6a799e6d9</td>\n",
              "      <td>75</td>\n",
              "      <td>F</td>\n",
              "      <td>100000.00</td>\n",
              "      <td>159.27</td>\n",
              "      <td>8.14</td>\n",
              "      <td>0</td>\n",
              "    </tr>\n",
              "  </tbody>\n",
              "</table>\n",
              "</div>\n",
              "    <div class=\"colab-df-buttons\">\n",
              "\n",
              "  <div class=\"colab-df-container\">\n",
              "    <button class=\"colab-df-convert\" onclick=\"convertToInteractive('df-d6682f70-91dc-4870-88e4-ff3f78473a92')\"\n",
              "            title=\"Convert this dataframe to an interactive table.\"\n",
              "            style=\"display:none;\">\n",
              "\n",
              "  <svg xmlns=\"http://www.w3.org/2000/svg\" height=\"24px\" viewBox=\"0 -960 960 960\">\n",
              "    <path d=\"M120-120v-720h720v720H120Zm60-500h600v-160H180v160Zm220 220h160v-160H400v160Zm0 220h160v-160H400v160ZM180-400h160v-160H180v160Zm440 0h160v-160H620v160ZM180-180h160v-160H180v160Zm440 0h160v-160H620v160Z\"/>\n",
              "  </svg>\n",
              "    </button>\n",
              "\n",
              "  <style>\n",
              "    .colab-df-container {\n",
              "      display:flex;\n",
              "      gap: 12px;\n",
              "    }\n",
              "\n",
              "    .colab-df-convert {\n",
              "      background-color: #E8F0FE;\n",
              "      border: none;\n",
              "      border-radius: 50%;\n",
              "      cursor: pointer;\n",
              "      display: none;\n",
              "      fill: #1967D2;\n",
              "      height: 32px;\n",
              "      padding: 0 0 0 0;\n",
              "      width: 32px;\n",
              "    }\n",
              "\n",
              "    .colab-df-convert:hover {\n",
              "      background-color: #E2EBFA;\n",
              "      box-shadow: 0px 1px 2px rgba(60, 64, 67, 0.3), 0px 1px 3px 1px rgba(60, 64, 67, 0.15);\n",
              "      fill: #174EA6;\n",
              "    }\n",
              "\n",
              "    .colab-df-buttons div {\n",
              "      margin-bottom: 4px;\n",
              "    }\n",
              "\n",
              "    [theme=dark] .colab-df-convert {\n",
              "      background-color: #3B4455;\n",
              "      fill: #D2E3FC;\n",
              "    }\n",
              "\n",
              "    [theme=dark] .colab-df-convert:hover {\n",
              "      background-color: #434B5C;\n",
              "      box-shadow: 0px 1px 3px 1px rgba(0, 0, 0, 0.15);\n",
              "      filter: drop-shadow(0px 1px 2px rgba(0, 0, 0, 0.3));\n",
              "      fill: #FFFFFF;\n",
              "    }\n",
              "  </style>\n",
              "\n",
              "    <script>\n",
              "      const buttonEl =\n",
              "        document.querySelector('#df-d6682f70-91dc-4870-88e4-ff3f78473a92 button.colab-df-convert');\n",
              "      buttonEl.style.display =\n",
              "        google.colab.kernel.accessAllowed ? 'block' : 'none';\n",
              "\n",
              "      async function convertToInteractive(key) {\n",
              "        const element = document.querySelector('#df-d6682f70-91dc-4870-88e4-ff3f78473a92');\n",
              "        const dataTable =\n",
              "          await google.colab.kernel.invokeFunction('convertToInteractive',\n",
              "                                                    [key], {});\n",
              "        if (!dataTable) return;\n",
              "\n",
              "        const docLinkHtml = 'Like what you see? Visit the ' +\n",
              "          '<a target=\"_blank\" href=https://colab.research.google.com/notebooks/data_table.ipynb>data table notebook</a>'\n",
              "          + ' to learn more about interactive tables.';\n",
              "        element.innerHTML = '';\n",
              "        dataTable['output_type'] = 'display_data';\n",
              "        await google.colab.output.renderOutput(dataTable, element);\n",
              "        const docLink = document.createElement('div');\n",
              "        docLink.innerHTML = docLinkHtml;\n",
              "        element.appendChild(docLink);\n",
              "      }\n",
              "    </script>\n",
              "  </div>\n",
              "\n",
              "\n",
              "    </div>\n",
              "  </div>\n"
            ],
            "application/vnd.google.colaboratory.intrinsic+json": {
              "type": "dataframe",
              "variable_name": "df_final",
              "summary": "{\n  \"name\": \"df_final\",\n  \"rows\": 92284,\n  \"fields\": [\n    {\n      \"column\": \"account_id\",\n      \"properties\": {\n        \"dtype\": \"category\",\n        \"num_unique_values\": 16994,\n        \"samples\": [\n          \"48a3787358ed4cc6978d805dbcbcf46b\",\n          \"2ca26dc17c8644118f094f0c0e887e65\",\n          \"196cdd07f88b486a81cd5aaaea6d022d\"\n        ],\n        \"semantic_type\": \"\",\n        \"description\": \"\"\n      }\n    },\n    {\n      \"column\": \"offer_id_pk\",\n      \"properties\": {\n        \"dtype\": \"category\",\n        \"num_unique_values\": 10,\n        \"samples\": [\n          \"ae264e3637204a6fb9bb56bc8210ddfd\",\n          \"0b1e1539f2cc45b7b9fa7c272da2e1d7\",\n          \"f19421c1d4aa40978ebb69ca19b0e20d\"\n        ],\n        \"semantic_type\": \"\",\n        \"description\": \"\"\n      }\n    },\n    {\n      \"column\": \"age\",\n      \"properties\": {\n        \"dtype\": \"number\",\n        \"std\": 24,\n        \"min\": 18,\n        \"max\": 118,\n        \"num_unique_values\": 85,\n        \"samples\": [\n          92,\n          75,\n          35\n        ],\n        \"semantic_type\": \"\",\n        \"description\": \"\"\n      }\n    },\n    {\n      \"column\": \"gender\",\n      \"properties\": {\n        \"dtype\": \"category\",\n        \"num_unique_values\": 3,\n        \"samples\": [\n          \"F\",\n          \"O\",\n          \"M\"\n        ],\n        \"semantic_type\": \"\",\n        \"description\": \"\"\n      }\n    },\n    {\n      \"column\": \"credit_card_limit\",\n      \"properties\": {\n        \"dtype\": \"number\",\n        \"std\": 28646.997367928027,\n        \"min\": 0.0,\n        \"max\": 120000.0,\n        \"num_unique_values\": 92,\n        \"samples\": [\n          84000.0,\n          56000.0,\n          50000.0\n        ],\n        \"semantic_type\": \"\",\n        \"description\": \"\"\n      }\n    },\n    {\n      \"column\": \"valor_total_gasto_transacoes\",\n      \"properties\": {\n        \"dtype\": \"number\",\n        \"std\": 134.24255176229343,\n        \"min\": 0.0,\n        \"max\": 1608.69,\n        \"num_unique_values\": 12412,\n        \"samples\": [\n          260.69,\n          190.53,\n          107.78\n        ],\n        \"semantic_type\": \"\",\n        \"description\": \"\"\n      }\n    },\n    {\n      \"column\": \"account_age\",\n      \"properties\": {\n        \"dtype\": \"number\",\n        \"std\": 1.119237344425018,\n        \"min\": 6.93,\n        \"max\": 11.92,\n        \"num_unique_values\": 499,\n        \"samples\": [\n          10.8,\n          7.59,\n          8.16\n        ],\n        \"semantic_type\": \"\",\n        \"description\": \"\"\n      }\n    },\n    {\n      \"column\": \"target\",\n      \"properties\": {\n        \"dtype\": \"number\",\n        \"std\": 0,\n        \"min\": 0,\n        \"max\": 1,\n        \"num_unique_values\": 2,\n        \"samples\": [\n          1,\n          0\n        ],\n        \"semantic_type\": \"\",\n        \"description\": \"\"\n      }\n    }\n  ]\n}"
            }
          },
          "metadata": {},
          "execution_count": 65
        }
      ]
    },
    {
      "cell_type": "markdown",
      "source": [
        "## Valores Numericos"
      ],
      "metadata": {
        "id": "ha4IKPTkCWci"
      }
    },
    {
      "cell_type": "markdown",
      "source": [
        "## Padronização Valores **Numéricos**"
      ],
      "metadata": {
        "id": "2bOwy6xFGajr"
      }
    },
    {
      "cell_type": "code",
      "source": [
        "df_final = df_final.set_index(['account_id', 'offer_id_pk'])"
      ],
      "metadata": {
        "id": "3SiXUQak70pt"
      },
      "execution_count": null,
      "outputs": []
    },
    {
      "cell_type": "code",
      "source": [
        "# Separando variaveis numericas\n",
        "numericas = [ 'age', 'credit_card_limit','account_age','valor_total_gasto_transacoes']\n",
        "df_final[numericas] = df_final[numericas].replace([np.inf, -np.inf], np.nan)\n",
        "# Transformando variaveis numericas e deixando todas na mesma escala\n",
        "scaler = MinMaxScaler()\n",
        "df_final[numericas] = scaler.fit_transform(df_final[numericas])"
      ],
      "metadata": {
        "id": "0qP9bP-OH4sr"
      },
      "execution_count": null,
      "outputs": []
    },
    {
      "cell_type": "code",
      "source": [
        "df[numericas].dtypes"
      ],
      "metadata": {
        "id": "R1WDQbiS9wjl",
        "colab": {
          "base_uri": "https://localhost:8080/",
          "height": 209
        },
        "outputId": "b54b5b75-ed3b-40b6-88c6-2ad5fd9f95b4"
      },
      "execution_count": null,
      "outputs": [
        {
          "output_type": "execute_result",
          "data": {
            "text/plain": [
              "age                               int64\n",
              "credit_card_limit               float64\n",
              "account_age                     float64\n",
              "valor_total_gasto_transacoes    float64\n",
              "dtype: object"
            ],
            "text/html": [
              "<div>\n",
              "<style scoped>\n",
              "    .dataframe tbody tr th:only-of-type {\n",
              "        vertical-align: middle;\n",
              "    }\n",
              "\n",
              "    .dataframe tbody tr th {\n",
              "        vertical-align: top;\n",
              "    }\n",
              "\n",
              "    .dataframe thead th {\n",
              "        text-align: right;\n",
              "    }\n",
              "</style>\n",
              "<table border=\"1\" class=\"dataframe\">\n",
              "  <thead>\n",
              "    <tr style=\"text-align: right;\">\n",
              "      <th></th>\n",
              "      <th>0</th>\n",
              "    </tr>\n",
              "  </thead>\n",
              "  <tbody>\n",
              "    <tr>\n",
              "      <th>age</th>\n",
              "      <td>int64</td>\n",
              "    </tr>\n",
              "    <tr>\n",
              "      <th>credit_card_limit</th>\n",
              "      <td>float64</td>\n",
              "    </tr>\n",
              "    <tr>\n",
              "      <th>account_age</th>\n",
              "      <td>float64</td>\n",
              "    </tr>\n",
              "    <tr>\n",
              "      <th>valor_total_gasto_transacoes</th>\n",
              "      <td>float64</td>\n",
              "    </tr>\n",
              "  </tbody>\n",
              "</table>\n",
              "</div><br><label><b>dtype:</b> object</label>"
            ]
          },
          "metadata": {},
          "execution_count": 68
        }
      ]
    },
    {
      "cell_type": "markdown",
      "source": [
        "## Padronização Valores **Categoricas**"
      ],
      "metadata": {
        "id": "BFxCkVSiIPlL"
      }
    },
    {
      "cell_type": "code",
      "source": [
        "# Separando colunas que são textuais\n",
        "#Variaveis categoricas que precisam ser tratadas\n",
        "categoricas = ['gender']\n",
        "# Colunas para formato de texto\n",
        "df_final[categoricas] = df_final[categoricas].astype(str)\n",
        "# Transformando variaveis categoricas\n",
        "df_final = pd.get_dummies(df_final, columns=categoricas)"
      ],
      "metadata": {
        "id": "BgPfZCCCHb4i"
      },
      "execution_count": null,
      "outputs": []
    },
    {
      "cell_type": "code",
      "source": [
        "df_final.columns"
      ],
      "metadata": {
        "colab": {
          "base_uri": "https://localhost:8080/"
        },
        "id": "bmlJx0wEGRtq",
        "outputId": "4deeb90c-136c-4c6c-bd4f-ff1067ca6469"
      },
      "execution_count": null,
      "outputs": [
        {
          "output_type": "execute_result",
          "data": {
            "text/plain": [
              "Index(['age', 'credit_card_limit', 'valor_total_gasto_transacoes',\n",
              "       'account_age', 'target', 'gender_F', 'gender_M', 'gender_O'],\n",
              "      dtype='object')"
            ]
          },
          "metadata": {},
          "execution_count": 70
        }
      ]
    },
    {
      "cell_type": "markdown",
      "source": [
        "## Remover variavel correlacioanada com target"
      ],
      "metadata": {
        "id": "zCBU_t8jesaK"
      }
    },
    {
      "cell_type": "code",
      "source": [
        "df_heat = df_final[['age', 'credit_card_limit', 'account_age',  'gender_F',\n",
        "       'gender_M', 'gender_O' ,'valor_total_gasto_transacoes','target']]\n",
        "\n",
        "plt.figure(figsize=(12, 8))\n",
        "sns.heatmap(df_heat.corr(), annot = True, fmt = '.1f', linewidths = 1.15)"
      ],
      "metadata": {
        "id": "3dyF0ttACY81",
        "colab": {
          "base_uri": "https://localhost:8080/",
          "height": 888
        },
        "outputId": "89d11c90-ade4-4633-c5e0-fa96ff13c02c"
      },
      "execution_count": null,
      "outputs": [
        {
          "output_type": "execute_result",
          "data": {
            "text/plain": [
              "<Axes: >"
            ]
          },
          "metadata": {},
          "execution_count": 71
        },
        {
          "output_type": "display_data",
          "data": {
            "text/plain": [
              "<Figure size 1200x800 with 2 Axes>"
            ],
            "image/png": "[encoded data removed]"
          },
          "metadata": {}
        }
      ]
    },
    {
      "cell_type": "markdown",
      "source": [
        "# Export Dataset"
      ],
      "metadata": {
        "id": "l4DDSXAnBLZW"
      }
    },
    {
      "cell_type": "code",
      "source": [
        "df_final = df_final.reset_index()\n",
        "df_final.to_csv('/content/drive/MyDrive/10_Trabalho/2_Cases_testes/202506_Ifood/ifood-case/data/processed/df_processed_complete.csv', index=False)"
      ],
      "metadata": {
        "id": "qNUna6_XHcKC"
      },
      "execution_count": null,
      "outputs": []
    }
  ]
}